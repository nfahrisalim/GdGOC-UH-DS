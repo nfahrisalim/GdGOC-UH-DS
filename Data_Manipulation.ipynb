{
  "cells": [
    {
      "cell_type": "markdown",
      "metadata": {
        "id": "OIVv83IwwSHH"
      },
      "source": []
    },
    {
      "cell_type": "markdown",
      "metadata": {
        "id": "XathoPuFtj_Z"
      },
      "source": [
        "#Import Pandas"
      ]
    },
    {
      "cell_type": "code",
      "execution_count": null,
      "metadata": {
        "id": "Gk4WrpCrtrhi"
      },
      "outputs": [],
      "source": [
        "import pandas as pd"
      ]
    },
    {
      "cell_type": "markdown",
      "metadata": {
        "id": "xuZ7PlYDsoaw"
      },
      "source": [
        "#Reading And Writing Data"
      ]
    },
    {
      "cell_type": "code",
      "execution_count": null,
      "metadata": {
        "colab": {
          "background_save": true
        },
        "id": "zZzuKSHEtExs"
      },
      "outputs": [],
      "source": [
        "# Import dari file csv\n",
        "df = pd.read_csv('/content/sample_data/california_housing_test.csv')\n",
        "\n",
        "#Import dari Excel\n",
        "df = pd.read_excel('/content/sample_data/california_housing_test.xlsx')"
      ]
    },
    {
      "cell_type": "code",
      "execution_count": null,
      "metadata": {
        "colab": {
          "background_save": true
        },
        "id": "sCSIGItuuCAd"
      },
      "outputs": [],
      "source": [
        "# Export data ke CSV\n",
        "df.to_csv('file_baru.csv')\n",
        "\n",
        "# Export data ke Ecel\n",
        "df.to_csv('file_baru.xlsx')"
      ]
    },
    {
      "cell_type": "markdown",
      "metadata": {
        "id": "E0o_HVFfunxN"
      },
      "source": [
        "#Struktur Data Pandas"
      ]
    },
    {
      "cell_type": "markdown",
      "metadata": {
        "id": "R1Tecsj0vTA9"
      },
      "source": [
        "## Series\n",
        "####Series itu daftar data satu dimensi (satu baris/kolom) aja, yang tiap elemennya punya label"
      ]
    },
    {
      "cell_type": "code",
      "execution_count": null,
      "metadata": {
        "colab": {
          "base_uri": "https://localhost:8080/"
        },
        "id": "tH93fxQQurwV",
        "outputId": "eef52b46-2c1e-4ec2-fa64-b7667bd470cc"
      },
      "outputs": [
        {
          "output_type": "stream",
          "name": "stdout",
          "text": [
            "Andi    85\n",
            "Budi    92\n",
            "Caca    78\n",
            "Dedi    95\n",
            "dtype: int64\n"
          ]
        }
      ],
      "source": [
        "# Membuat sebuah series dengan nama sebagai label dan nilai sebagai data\n",
        "nilai_siswa = pd.Series([85, 92, 78,95], index=['Andi', 'Budi', 'Caca', 'Dedi'])\n",
        "\n",
        "# Print Series\n",
        "print(nilai_siswa)"
      ]
    },
    {
      "cell_type": "markdown",
      "metadata": {
        "id": "rokSaWDcx_Y4"
      },
      "source": [
        "### DataFrame\n",
        "\n",
        "#### Merupakan struktur dua dimensi (Tersusun dalam bentuk baris dan kolom, bukan hanya satu deret) berlabel, mirip seperti spreadsheet"
      ]
    },
    {
      "cell_type": "code",
      "execution_count": null,
      "metadata": {
        "id": "7xqI_sY4yn0r",
        "colab": {
          "base_uri": "https://localhost:8080/"
        },
        "outputId": "91e6b389-122a-4339-b9e3-a7e97f59ba62"
      },
      "outputs": [
        {
          "output_type": "stream",
          "name": "stdout",
          "text": [
            "    Nama  Usia       Prodi  nilai     Kampung  Angkatan  Beasiswa\n",
            "0   Andi    20       Ilkom     95    Makassar      2019      True\n",
            "1   Budi    21       Hukum     90    Parepare      2020     False\n",
            "2   Caca    19      Teknik     85     Jakarta      2021      True\n",
            "3   Dedi    22     Ekonomi     80    Surabaya      2022     False\n",
            "4  Restu    23      Sastra     75      Malang      2023      True\n",
            "5  Rizky    20  Kedokteran     70  Yogyakarta      2024     False\n"
          ]
        }
      ],
      "source": [
        "# Membuat dictionary dengan data siswa\n",
        "data_siswa = {\n",
        "    \"Nama\": ['Andi', 'Budi', 'Caca', 'Dedi', 'Restu', 'Rizky'],\n",
        "    \"Usia\": [20, 21, 19, 22, 23, 20],\n",
        "    \"Prodi\": [\"Ilkom\", \"Hukum\", \"Teknik\", \"Ekonomi\", \"Sastra\", \"Kedokteran\"],\n",
        "    \"nilai\": [95, 90, 85, 80, 75, 70],\n",
        "    \"Kampung\": [\"Makassar\", \"Parepare\", \"Jakarta\", \"Surabaya\", \"Malang\", \"Yogyakarta\"],\n",
        "    \"Angkatan\": [2019, 2020, 2021, 2022, 2023, 2024],\n",
        "    \"Beasiswa\": [True, False, True, False, True, False]\n",
        "}\n",
        "\n",
        "# Membuat DataFrame dari dictionary\n",
        "df = pd.DataFrame(data_siswa)\n",
        "\n",
        "# Print DataFrame\n",
        "print(df)"
      ]
    },
    {
      "cell_type": "markdown",
      "source": [
        "#Eksplorasi Data\n",
        "##### Sebelum memanipulasi suatu dataset, ada baiknya untuk dieksplorasi dan dipahami terlebih dahulu."
      ],
      "metadata": {
        "id": "RkOeo_hwZAn8"
      }
    },
    {
      "cell_type": "markdown",
      "source": [
        "#### head()\n",
        "##### Fungsi ini bakal mengembalikan beberapa baris pertama dari DataFrame. Secara default, cuma menampilkan 5 baris pertama"
      ],
      "metadata": {
        "id": "VLigwC2mZfW7"
      }
    },
    {
      "cell_type": "code",
      "source": [
        "# Menampilkan beberapa baris pertama dari DataFrame\n",
        "print(df.head())"
      ],
      "metadata": {
        "colab": {
          "base_uri": "https://localhost:8080/"
        },
        "id": "3OykT6BBZZgU",
        "outputId": "a076b7b1-af40-4f26-84a2-fb129cee79e9"
      },
      "execution_count": null,
      "outputs": [
        {
          "output_type": "stream",
          "name": "stdout",
          "text": [
            "    Nama  Usia    Prodi  nilai   Kampung  Angkatan  Beasiswa\n",
            "0   Andi    20    Ilkom     95  Makassar      2019      True\n",
            "1   Budi    21    Hukum     90  Parepare      2020     False\n",
            "2   Caca    19   Teknik     85   Jakarta      2021      True\n",
            "3   Dedi    22  Ekonomi     80  Surabaya      2022     False\n",
            "4  Restu    23   Sastra     75    Malang      2023      True\n"
          ]
        }
      ]
    },
    {
      "cell_type": "markdown",
      "source": [
        "#### tail()\n",
        "##### Seperti head(), Fungsi ini bakal mengembalikan beberapa dari dari DataFrame. namun sebaliknya, ini malah mengembalikan baris terakhir."
      ],
      "metadata": {
        "id": "WIXwe7S5js9V"
      }
    },
    {
      "cell_type": "code",
      "source": [
        "# Menampilkan beberapa baris terakhir dari DataFrame\n",
        "print(df.tail())"
      ],
      "metadata": {
        "colab": {
          "base_uri": "https://localhost:8080/"
        },
        "id": "5O9zSatckKnF",
        "outputId": "0f7dc9b9-3bfe-4221-a931-b3d0bde1e597"
      },
      "execution_count": null,
      "outputs": [
        {
          "output_type": "stream",
          "name": "stdout",
          "text": [
            "    Nama  Usia     Jurusan  nilai     Kampung  Angkatan  Beasiswa\n",
            "1   Budi    21       Hukum     90    Parepare      2020     False\n",
            "2   Caca    19      Teknik     85     Jakarta      2021      True\n",
            "3   Dedi    22     Ekonomi     80    Surabaya      2022     False\n",
            "4  Restu    23      Sastra     75      Malang      2023      True\n",
            "5  Rizky    20  Kedokteran     70  Yogyakarta      2024     False\n"
          ]
        }
      ]
    },
    {
      "cell_type": "markdown",
      "source": [
        "#### describe()\n",
        "##### Fungsi ini memberikan ringkasan statistik dari kolom-kolom yang numerik, seperti rata-rata, standar deviasi, min, max, dan persentil.\n",
        "\n",
        "##### Secara otomatis yang dihitung seperti\n",
        "- count (Jumlah data setiap kolom)\n",
        "- mean (Rata-rata nilai)\n",
        "- std (Standar devisasi)\n",
        "- min (Nilai terkecil)\n",
        "- max (Nilai Terbesar)\n",
        "- Distribusi data / Kuartil pertama, kedua, dan Ketiga\n",
        "\n"
      ],
      "metadata": {
        "id": "WGy2YyZUkQjA"
      }
    },
    {
      "cell_type": "code",
      "source": [
        "# Tampilkan ringkasan statistik dari DataFrame\n",
        "print(df.describe())"
      ],
      "metadata": {
        "colab": {
          "base_uri": "https://localhost:8080/"
        },
        "id": "6ASo1Ukclf9-",
        "outputId": "9b37f1db-3d7c-43d1-8f20-a7cf331a7b23"
      },
      "execution_count": null,
      "outputs": [
        {
          "output_type": "stream",
          "name": "stdout",
          "text": [
            "            Usia      nilai     Angkatan\n",
            "count   6.000000   6.000000     6.000000\n",
            "mean   20.833333  82.500000  2021.500000\n",
            "std     1.471960   9.354143     1.870829\n",
            "min    19.000000  70.000000  2019.000000\n",
            "25%    20.000000  76.250000  2020.250000\n",
            "50%    20.500000  82.500000  2021.500000\n",
            "75%    21.750000  88.750000  2022.750000\n",
            "max    23.000000  95.000000  2024.000000\n"
          ]
        }
      ]
    },
    {
      "cell_type": "markdown",
      "source": [
        "#### info()\n",
        "##### Menampilakn ringkasan singkat tentang DataFrame, termasuk tipe data, jumlah nilai yang tidak null, dan penggunaan memori\n"
      ],
      "metadata": {
        "id": "M6W7XjGnl5JD"
      }
    },
    {
      "cell_type": "code",
      "source": [
        "# Tampilkan informasi mengenai DataFrame\n",
        "print(df.info())"
      ],
      "metadata": {
        "colab": {
          "base_uri": "https://localhost:8080/"
        },
        "id": "K75IDnrZnbTO",
        "outputId": "aaa3dec5-6d0d-4f0a-b83f-01e5c1c9a80b"
      },
      "execution_count": null,
      "outputs": [
        {
          "output_type": "stream",
          "name": "stdout",
          "text": [
            "<class 'pandas.core.frame.DataFrame'>\n",
            "RangeIndex: 6 entries, 0 to 5\n",
            "Data columns (total 7 columns):\n",
            " #   Column    Non-Null Count  Dtype \n",
            "---  ------    --------------  ----- \n",
            " 0   Nama      6 non-null      object\n",
            " 1   Usia      6 non-null      int64 \n",
            " 2   Prodi     6 non-null      object\n",
            " 3   nilai     6 non-null      int64 \n",
            " 4   Kampung   6 non-null      object\n",
            " 5   Angkatan  6 non-null      int64 \n",
            " 6   Beasiswa  6 non-null      bool  \n",
            "dtypes: bool(1), int64(3), object(3)\n",
            "memory usage: 426.0+ bytes\n",
            "None\n"
          ]
        }
      ]
    },
    {
      "cell_type": "markdown",
      "source": [
        "##### Ini penting karena :\n",
        "- Memeriksa apakah ada data yang hilang (kolom dengan nilai null lebih sedikit total baris)\n",
        "- Melihat tipe data setiap kolom sebelum dilakukan analisis lebih lanjut\n",
        "- Mengevaluasi penggunaan memori saat bekerja dengan dataset besar"
      ],
      "metadata": {
        "id": "hU0LwxxCoPJI"
      }
    },
    {
      "cell_type": "markdown",
      "source": [
        "- df.shape untuk mendapatkan ukuran DataFrame dalam bentuk tuple (Jumlah baris & Jumlah kolom)"
      ],
      "metadata": {
        "id": "DHNPGTOAoScb"
      }
    },
    {
      "cell_type": "code",
      "source": [
        "# Menampilkan dimensi DataFrame\n",
        "print(df.shape)"
      ],
      "metadata": {
        "colab": {
          "base_uri": "https://localhost:8080/"
        },
        "id": "u7dsH2t86Cwn",
        "outputId": "fe72bdde-f710-46f0-d90e-9a7b5c376543"
      },
      "execution_count": null,
      "outputs": [
        {
          "output_type": "stream",
          "name": "stdout",
          "text": [
            "(6, 7)\n"
          ]
        }
      ]
    },
    {
      "cell_type": "markdown",
      "source": [
        "#Menangani Data yang Hilang\n",
        "##### Berguna untuk menghindari analisis yang tidak akurat, kesimpulan salah. Kalau data tidak lengkap, hasil analisis bakal menyesatkan, jadi harus diisi atau ditangani.\n",
        "\n"
      ],
      "metadata": {
        "id": "hLjJ-AyG6Pef"
      }
    },
    {
      "cell_type": "markdown",
      "source": [
        "##### Mengidentifikasi nilai yang hilang"
      ],
      "metadata": {
        "id": "iTXpPhTC64pQ"
      }
    },
    {
      "cell_type": "code",
      "source": [
        "# Mengecek nilai yang hilang di DataFrame\n",
        "print(df.isnull().sum())\n"
      ],
      "metadata": {
        "colab": {
          "base_uri": "https://localhost:8080/"
        },
        "id": "DGy-v-8i6PId",
        "outputId": "ed0f058e-a440-4450-c666-d2c626214c53"
      },
      "execution_count": null,
      "outputs": [
        {
          "output_type": "stream",
          "name": "stdout",
          "text": [
            "Nama        0\n",
            "Usia        0\n",
            "Prodi       0\n",
            "nilai       0\n",
            "Kampung     0\n",
            "Angkatan    0\n",
            "Beasiswa    0\n",
            "dtype: int64\n"
          ]
        }
      ]
    },
    {
      "cell_type": "markdown",
      "source": [
        "##### Menghapus atau mengisi nilai hilang"
      ],
      "metadata": {
        "id": "5KSU07W97OIH"
      }
    },
    {
      "cell_type": "code",
      "source": [
        "# Menghapus baris dengan nilai yang hilang\n",
        "df.dropna()\n",
        "\n",
        "#Mengisi nilai yang hilang dengan nilai spesifik\n",
        "df.fillna(0)\n",
        "\n",
        "#Mengisi nilai hilang dengan fungsi\n",
        "df.fillna(df.mean())\n"
      ],
      "metadata": {
        "colab": {
          "base_uri": "https://localhost:8080/",
          "height": 237
        },
        "id": "3GAnWduf7Wpt",
        "outputId": "7dbd8cf7-5817-42a5-ce13-86d4fec057d5"
      },
      "execution_count": null,
      "outputs": [
        {
          "output_type": "execute_result",
          "data": {
            "text/plain": [
              "    Nama  Usia       Prodi  nilai     Kampung  Angkatan  Beasiswa\n",
              "0   Andi    20       Ilkom     95    Makassar      2019      True\n",
              "1   Budi    21       Hukum     90    Parepare      2020     False\n",
              "2   Caca    19      Teknik     85     Jakarta      2021      True\n",
              "3   Dedi    22     Ekonomi     80    Surabaya      2022     False\n",
              "4  Restu    23      Sastra     75      Malang      2023      True\n",
              "5  Rizky    20  Kedokteran     70  Yogyakarta      2024     False"
            ],
            "text/html": [
              "\n",
              "  <div id=\"df-32da189c-673f-4fe0-a60a-aaec9c6e32a3\" class=\"colab-df-container\">\n",
              "    <div>\n",
              "<style scoped>\n",
              "    .dataframe tbody tr th:only-of-type {\n",
              "        vertical-align: middle;\n",
              "    }\n",
              "\n",
              "    .dataframe tbody tr th {\n",
              "        vertical-align: top;\n",
              "    }\n",
              "\n",
              "    .dataframe thead th {\n",
              "        text-align: right;\n",
              "    }\n",
              "</style>\n",
              "<table border=\"1\" class=\"dataframe\">\n",
              "  <thead>\n",
              "    <tr style=\"text-align: right;\">\n",
              "      <th></th>\n",
              "      <th>Nama</th>\n",
              "      <th>Usia</th>\n",
              "      <th>Prodi</th>\n",
              "      <th>nilai</th>\n",
              "      <th>Kampung</th>\n",
              "      <th>Angkatan</th>\n",
              "      <th>Beasiswa</th>\n",
              "    </tr>\n",
              "  </thead>\n",
              "  <tbody>\n",
              "    <tr>\n",
              "      <th>0</th>\n",
              "      <td>Andi</td>\n",
              "      <td>20</td>\n",
              "      <td>Ilkom</td>\n",
              "      <td>95</td>\n",
              "      <td>Makassar</td>\n",
              "      <td>2019</td>\n",
              "      <td>True</td>\n",
              "    </tr>\n",
              "    <tr>\n",
              "      <th>1</th>\n",
              "      <td>Budi</td>\n",
              "      <td>21</td>\n",
              "      <td>Hukum</td>\n",
              "      <td>90</td>\n",
              "      <td>Parepare</td>\n",
              "      <td>2020</td>\n",
              "      <td>False</td>\n",
              "    </tr>\n",
              "    <tr>\n",
              "      <th>2</th>\n",
              "      <td>Caca</td>\n",
              "      <td>19</td>\n",
              "      <td>Teknik</td>\n",
              "      <td>85</td>\n",
              "      <td>Jakarta</td>\n",
              "      <td>2021</td>\n",
              "      <td>True</td>\n",
              "    </tr>\n",
              "    <tr>\n",
              "      <th>3</th>\n",
              "      <td>Dedi</td>\n",
              "      <td>22</td>\n",
              "      <td>Ekonomi</td>\n",
              "      <td>80</td>\n",
              "      <td>Surabaya</td>\n",
              "      <td>2022</td>\n",
              "      <td>False</td>\n",
              "    </tr>\n",
              "    <tr>\n",
              "      <th>4</th>\n",
              "      <td>Restu</td>\n",
              "      <td>23</td>\n",
              "      <td>Sastra</td>\n",
              "      <td>75</td>\n",
              "      <td>Malang</td>\n",
              "      <td>2023</td>\n",
              "      <td>True</td>\n",
              "    </tr>\n",
              "    <tr>\n",
              "      <th>5</th>\n",
              "      <td>Rizky</td>\n",
              "      <td>20</td>\n",
              "      <td>Kedokteran</td>\n",
              "      <td>70</td>\n",
              "      <td>Yogyakarta</td>\n",
              "      <td>2024</td>\n",
              "      <td>False</td>\n",
              "    </tr>\n",
              "  </tbody>\n",
              "</table>\n",
              "</div>\n",
              "    <div class=\"colab-df-buttons\">\n",
              "\n",
              "  <div class=\"colab-df-container\">\n",
              "    <button class=\"colab-df-convert\" onclick=\"convertToInteractive('df-32da189c-673f-4fe0-a60a-aaec9c6e32a3')\"\n",
              "            title=\"Convert this dataframe to an interactive table.\"\n",
              "            style=\"display:none;\">\n",
              "\n",
              "  <svg xmlns=\"http://www.w3.org/2000/svg\" height=\"24px\" viewBox=\"0 -960 960 960\">\n",
              "    <path d=\"M120-120v-720h720v720H120Zm60-500h600v-160H180v160Zm220 220h160v-160H400v160Zm0 220h160v-160H400v160ZM180-400h160v-160H180v160Zm440 0h160v-160H620v160ZM180-180h160v-160H180v160Zm440 0h160v-160H620v160Z\"/>\n",
              "  </svg>\n",
              "    </button>\n",
              "\n",
              "  <style>\n",
              "    .colab-df-container {\n",
              "      display:flex;\n",
              "      gap: 12px;\n",
              "    }\n",
              "\n",
              "    .colab-df-convert {\n",
              "      background-color: #E8F0FE;\n",
              "      border: none;\n",
              "      border-radius: 50%;\n",
              "      cursor: pointer;\n",
              "      display: none;\n",
              "      fill: #1967D2;\n",
              "      height: 32px;\n",
              "      padding: 0 0 0 0;\n",
              "      width: 32px;\n",
              "    }\n",
              "\n",
              "    .colab-df-convert:hover {\n",
              "      background-color: #E2EBFA;\n",
              "      box-shadow: 0px 1px 2px rgba(60, 64, 67, 0.3), 0px 1px 3px 1px rgba(60, 64, 67, 0.15);\n",
              "      fill: #174EA6;\n",
              "    }\n",
              "\n",
              "    .colab-df-buttons div {\n",
              "      margin-bottom: 4px;\n",
              "    }\n",
              "\n",
              "    [theme=dark] .colab-df-convert {\n",
              "      background-color: #3B4455;\n",
              "      fill: #D2E3FC;\n",
              "    }\n",
              "\n",
              "    [theme=dark] .colab-df-convert:hover {\n",
              "      background-color: #434B5C;\n",
              "      box-shadow: 0px 1px 3px 1px rgba(0, 0, 0, 0.15);\n",
              "      filter: drop-shadow(0px 1px 2px rgba(0, 0, 0, 0.3));\n",
              "      fill: #FFFFFF;\n",
              "    }\n",
              "  </style>\n",
              "\n",
              "    <script>\n",
              "      const buttonEl =\n",
              "        document.querySelector('#df-32da189c-673f-4fe0-a60a-aaec9c6e32a3 button.colab-df-convert');\n",
              "      buttonEl.style.display =\n",
              "        google.colab.kernel.accessAllowed ? 'block' : 'none';\n",
              "\n",
              "      async function convertToInteractive(key) {\n",
              "        const element = document.querySelector('#df-32da189c-673f-4fe0-a60a-aaec9c6e32a3');\n",
              "        const dataTable =\n",
              "          await google.colab.kernel.invokeFunction('convertToInteractive',\n",
              "                                                    [key], {});\n",
              "        if (!dataTable) return;\n",
              "\n",
              "        const docLinkHtml = 'Like what you see? Visit the ' +\n",
              "          '<a target=\"_blank\" href=https://colab.research.google.com/notebooks/data_table.ipynb>data table notebook</a>'\n",
              "          + ' to learn more about interactive tables.';\n",
              "        element.innerHTML = '';\n",
              "        dataTable['output_type'] = 'display_data';\n",
              "        await google.colab.output.renderOutput(dataTable, element);\n",
              "        const docLink = document.createElement('div');\n",
              "        docLink.innerHTML = docLinkHtml;\n",
              "        element.appendChild(docLink);\n",
              "      }\n",
              "    </script>\n",
              "  </div>\n",
              "\n",
              "\n",
              "<div id=\"df-4506e931-02d0-42ff-ae24-eda7ff27e898\">\n",
              "  <button class=\"colab-df-quickchart\" onclick=\"quickchart('df-4506e931-02d0-42ff-ae24-eda7ff27e898')\"\n",
              "            title=\"Suggest charts\"\n",
              "            style=\"display:none;\">\n",
              "\n",
              "<svg xmlns=\"http://www.w3.org/2000/svg\" height=\"24px\"viewBox=\"0 0 24 24\"\n",
              "     width=\"24px\">\n",
              "    <g>\n",
              "        <path d=\"M19 3H5c-1.1 0-2 .9-2 2v14c0 1.1.9 2 2 2h14c1.1 0 2-.9 2-2V5c0-1.1-.9-2-2-2zM9 17H7v-7h2v7zm4 0h-2V7h2v10zm4 0h-2v-4h2v4z\"/>\n",
              "    </g>\n",
              "</svg>\n",
              "  </button>\n",
              "\n",
              "<style>\n",
              "  .colab-df-quickchart {\n",
              "      --bg-color: #E8F0FE;\n",
              "      --fill-color: #1967D2;\n",
              "      --hover-bg-color: #E2EBFA;\n",
              "      --hover-fill-color: #174EA6;\n",
              "      --disabled-fill-color: #AAA;\n",
              "      --disabled-bg-color: #DDD;\n",
              "  }\n",
              "\n",
              "  [theme=dark] .colab-df-quickchart {\n",
              "      --bg-color: #3B4455;\n",
              "      --fill-color: #D2E3FC;\n",
              "      --hover-bg-color: #434B5C;\n",
              "      --hover-fill-color: #FFFFFF;\n",
              "      --disabled-bg-color: #3B4455;\n",
              "      --disabled-fill-color: #666;\n",
              "  }\n",
              "\n",
              "  .colab-df-quickchart {\n",
              "    background-color: var(--bg-color);\n",
              "    border: none;\n",
              "    border-radius: 50%;\n",
              "    cursor: pointer;\n",
              "    display: none;\n",
              "    fill: var(--fill-color);\n",
              "    height: 32px;\n",
              "    padding: 0;\n",
              "    width: 32px;\n",
              "  }\n",
              "\n",
              "  .colab-df-quickchart:hover {\n",
              "    background-color: var(--hover-bg-color);\n",
              "    box-shadow: 0 1px 2px rgba(60, 64, 67, 0.3), 0 1px 3px 1px rgba(60, 64, 67, 0.15);\n",
              "    fill: var(--button-hover-fill-color);\n",
              "  }\n",
              "\n",
              "  .colab-df-quickchart-complete:disabled,\n",
              "  .colab-df-quickchart-complete:disabled:hover {\n",
              "    background-color: var(--disabled-bg-color);\n",
              "    fill: var(--disabled-fill-color);\n",
              "    box-shadow: none;\n",
              "  }\n",
              "\n",
              "  .colab-df-spinner {\n",
              "    border: 2px solid var(--fill-color);\n",
              "    border-color: transparent;\n",
              "    border-bottom-color: var(--fill-color);\n",
              "    animation:\n",
              "      spin 1s steps(1) infinite;\n",
              "  }\n",
              "\n",
              "  @keyframes spin {\n",
              "    0% {\n",
              "      border-color: transparent;\n",
              "      border-bottom-color: var(--fill-color);\n",
              "      border-left-color: var(--fill-color);\n",
              "    }\n",
              "    20% {\n",
              "      border-color: transparent;\n",
              "      border-left-color: var(--fill-color);\n",
              "      border-top-color: var(--fill-color);\n",
              "    }\n",
              "    30% {\n",
              "      border-color: transparent;\n",
              "      border-left-color: var(--fill-color);\n",
              "      border-top-color: var(--fill-color);\n",
              "      border-right-color: var(--fill-color);\n",
              "    }\n",
              "    40% {\n",
              "      border-color: transparent;\n",
              "      border-right-color: var(--fill-color);\n",
              "      border-top-color: var(--fill-color);\n",
              "    }\n",
              "    60% {\n",
              "      border-color: transparent;\n",
              "      border-right-color: var(--fill-color);\n",
              "    }\n",
              "    80% {\n",
              "      border-color: transparent;\n",
              "      border-right-color: var(--fill-color);\n",
              "      border-bottom-color: var(--fill-color);\n",
              "    }\n",
              "    90% {\n",
              "      border-color: transparent;\n",
              "      border-bottom-color: var(--fill-color);\n",
              "    }\n",
              "  }\n",
              "</style>\n",
              "\n",
              "  <script>\n",
              "    async function quickchart(key) {\n",
              "      const quickchartButtonEl =\n",
              "        document.querySelector('#' + key + ' button');\n",
              "      quickchartButtonEl.disabled = true;  // To prevent multiple clicks.\n",
              "      quickchartButtonEl.classList.add('colab-df-spinner');\n",
              "      try {\n",
              "        const charts = await google.colab.kernel.invokeFunction(\n",
              "            'suggestCharts', [key], {});\n",
              "      } catch (error) {\n",
              "        console.error('Error during call to suggestCharts:', error);\n",
              "      }\n",
              "      quickchartButtonEl.classList.remove('colab-df-spinner');\n",
              "      quickchartButtonEl.classList.add('colab-df-quickchart-complete');\n",
              "    }\n",
              "    (() => {\n",
              "      let quickchartButtonEl =\n",
              "        document.querySelector('#df-4506e931-02d0-42ff-ae24-eda7ff27e898 button');\n",
              "      quickchartButtonEl.style.display =\n",
              "        google.colab.kernel.accessAllowed ? 'block' : 'none';\n",
              "    })();\n",
              "  </script>\n",
              "</div>\n",
              "\n",
              "    </div>\n",
              "  </div>\n"
            ],
            "application/vnd.google.colaboratory.intrinsic+json": {
              "type": "dataframe",
              "summary": "{\n  \"name\": \"# df\",\n  \"rows\": 6,\n  \"fields\": [\n    {\n      \"column\": \"Nama\",\n      \"properties\": {\n        \"dtype\": \"string\",\n        \"num_unique_values\": 6,\n        \"samples\": [\n          \"Andi\",\n          \"Budi\",\n          \"Rizky\"\n        ],\n        \"semantic_type\": \"\",\n        \"description\": \"\"\n      }\n    },\n    {\n      \"column\": \"Usia\",\n      \"properties\": {\n        \"dtype\": \"number\",\n        \"std\": 1,\n        \"min\": 19,\n        \"max\": 23,\n        \"num_unique_values\": 5,\n        \"samples\": [\n          21,\n          23,\n          19\n        ],\n        \"semantic_type\": \"\",\n        \"description\": \"\"\n      }\n    },\n    {\n      \"column\": \"Prodi\",\n      \"properties\": {\n        \"dtype\": \"string\",\n        \"num_unique_values\": 6,\n        \"samples\": [\n          \"Ilkom\",\n          \"Hukum\",\n          \"Kedokteran\"\n        ],\n        \"semantic_type\": \"\",\n        \"description\": \"\"\n      }\n    },\n    {\n      \"column\": \"nilai\",\n      \"properties\": {\n        \"dtype\": \"number\",\n        \"std\": 9,\n        \"min\": 70,\n        \"max\": 95,\n        \"num_unique_values\": 6,\n        \"samples\": [\n          95,\n          90,\n          70\n        ],\n        \"semantic_type\": \"\",\n        \"description\": \"\"\n      }\n    },\n    {\n      \"column\": \"Kampung\",\n      \"properties\": {\n        \"dtype\": \"string\",\n        \"num_unique_values\": 6,\n        \"samples\": [\n          \"Makassar\",\n          \"Parepare\",\n          \"Yogyakarta\"\n        ],\n        \"semantic_type\": \"\",\n        \"description\": \"\"\n      }\n    },\n    {\n      \"column\": \"Angkatan\",\n      \"properties\": {\n        \"dtype\": \"number\",\n        \"std\": 1,\n        \"min\": 2019,\n        \"max\": 2024,\n        \"num_unique_values\": 6,\n        \"samples\": [\n          2019,\n          2020,\n          2024\n        ],\n        \"semantic_type\": \"\",\n        \"description\": \"\"\n      }\n    },\n    {\n      \"column\": \"Beasiswa\",\n      \"properties\": {\n        \"dtype\": \"boolean\",\n        \"num_unique_values\": 2,\n        \"samples\": [\n          false,\n          true\n        ],\n        \"semantic_type\": \"\",\n        \"description\": \"\"\n      }\n    }\n  ]\n}"
            }
          },
          "metadata": {},
          "execution_count": 11
        }
      ]
    },
    {
      "cell_type": "markdown",
      "source": [
        "#Seleksi dan penyaringan data\n",
        "##### Pandas menyediakan berbagai metode untuk memilih dan menyaring data dari DataFrame, baik berdasarkan label, posisi indeks, maupun kondisi booelan\n"
      ],
      "metadata": {
        "id": "fF1OXwJj8AQn"
      }
    },
    {
      "cell_type": "markdown",
      "source": [
        "##### Filter baris"
      ],
      "metadata": {
        "id": "drSYxsfV8_A7"
      }
    },
    {
      "cell_type": "code",
      "source": [
        "# Saring baris berdasarkan kondisi\n",
        "df[df['nilai'] > 90]\n",
        "\n",
        "#Saring baris dengan beberapa kondisi\n",
        "df[(df['nilai'] > 90) & (df['Usia'] > 18)]\n"
      ],
      "metadata": {
        "colab": {
          "base_uri": "https://localhost:8080/",
          "height": 81
        },
        "id": "zZrNvAhD86gA",
        "outputId": "62d4d7c2-408a-431f-9b24-1ddeb106501d"
      },
      "execution_count": null,
      "outputs": [
        {
          "output_type": "execute_result",
          "data": {
            "text/plain": [
              "   Nama  Usia  Prodi  nilai   Kampung  Angkatan  Beasiswa\n",
              "0  Andi    20  Ilkom     95  Makassar      2019      True"
            ],
            "text/html": [
              "\n",
              "  <div id=\"df-bd9911c2-36c6-464b-a630-f155c21f6e23\" class=\"colab-df-container\">\n",
              "    <div>\n",
              "<style scoped>\n",
              "    .dataframe tbody tr th:only-of-type {\n",
              "        vertical-align: middle;\n",
              "    }\n",
              "\n",
              "    .dataframe tbody tr th {\n",
              "        vertical-align: top;\n",
              "    }\n",
              "\n",
              "    .dataframe thead th {\n",
              "        text-align: right;\n",
              "    }\n",
              "</style>\n",
              "<table border=\"1\" class=\"dataframe\">\n",
              "  <thead>\n",
              "    <tr style=\"text-align: right;\">\n",
              "      <th></th>\n",
              "      <th>Nama</th>\n",
              "      <th>Usia</th>\n",
              "      <th>Prodi</th>\n",
              "      <th>nilai</th>\n",
              "      <th>Kampung</th>\n",
              "      <th>Angkatan</th>\n",
              "      <th>Beasiswa</th>\n",
              "    </tr>\n",
              "  </thead>\n",
              "  <tbody>\n",
              "    <tr>\n",
              "      <th>0</th>\n",
              "      <td>Andi</td>\n",
              "      <td>20</td>\n",
              "      <td>Ilkom</td>\n",
              "      <td>95</td>\n",
              "      <td>Makassar</td>\n",
              "      <td>2019</td>\n",
              "      <td>True</td>\n",
              "    </tr>\n",
              "  </tbody>\n",
              "</table>\n",
              "</div>\n",
              "    <div class=\"colab-df-buttons\">\n",
              "\n",
              "  <div class=\"colab-df-container\">\n",
              "    <button class=\"colab-df-convert\" onclick=\"convertToInteractive('df-bd9911c2-36c6-464b-a630-f155c21f6e23')\"\n",
              "            title=\"Convert this dataframe to an interactive table.\"\n",
              "            style=\"display:none;\">\n",
              "\n",
              "  <svg xmlns=\"http://www.w3.org/2000/svg\" height=\"24px\" viewBox=\"0 -960 960 960\">\n",
              "    <path d=\"M120-120v-720h720v720H120Zm60-500h600v-160H180v160Zm220 220h160v-160H400v160Zm0 220h160v-160H400v160ZM180-400h160v-160H180v160Zm440 0h160v-160H620v160ZM180-180h160v-160H180v160Zm440 0h160v-160H620v160Z\"/>\n",
              "  </svg>\n",
              "    </button>\n",
              "\n",
              "  <style>\n",
              "    .colab-df-container {\n",
              "      display:flex;\n",
              "      gap: 12px;\n",
              "    }\n",
              "\n",
              "    .colab-df-convert {\n",
              "      background-color: #E8F0FE;\n",
              "      border: none;\n",
              "      border-radius: 50%;\n",
              "      cursor: pointer;\n",
              "      display: none;\n",
              "      fill: #1967D2;\n",
              "      height: 32px;\n",
              "      padding: 0 0 0 0;\n",
              "      width: 32px;\n",
              "    }\n",
              "\n",
              "    .colab-df-convert:hover {\n",
              "      background-color: #E2EBFA;\n",
              "      box-shadow: 0px 1px 2px rgba(60, 64, 67, 0.3), 0px 1px 3px 1px rgba(60, 64, 67, 0.15);\n",
              "      fill: #174EA6;\n",
              "    }\n",
              "\n",
              "    .colab-df-buttons div {\n",
              "      margin-bottom: 4px;\n",
              "    }\n",
              "\n",
              "    [theme=dark] .colab-df-convert {\n",
              "      background-color: #3B4455;\n",
              "      fill: #D2E3FC;\n",
              "    }\n",
              "\n",
              "    [theme=dark] .colab-df-convert:hover {\n",
              "      background-color: #434B5C;\n",
              "      box-shadow: 0px 1px 3px 1px rgba(0, 0, 0, 0.15);\n",
              "      filter: drop-shadow(0px 1px 2px rgba(0, 0, 0, 0.3));\n",
              "      fill: #FFFFFF;\n",
              "    }\n",
              "  </style>\n",
              "\n",
              "    <script>\n",
              "      const buttonEl =\n",
              "        document.querySelector('#df-bd9911c2-36c6-464b-a630-f155c21f6e23 button.colab-df-convert');\n",
              "      buttonEl.style.display =\n",
              "        google.colab.kernel.accessAllowed ? 'block' : 'none';\n",
              "\n",
              "      async function convertToInteractive(key) {\n",
              "        const element = document.querySelector('#df-bd9911c2-36c6-464b-a630-f155c21f6e23');\n",
              "        const dataTable =\n",
              "          await google.colab.kernel.invokeFunction('convertToInteractive',\n",
              "                                                    [key], {});\n",
              "        if (!dataTable) return;\n",
              "\n",
              "        const docLinkHtml = 'Like what you see? Visit the ' +\n",
              "          '<a target=\"_blank\" href=https://colab.research.google.com/notebooks/data_table.ipynb>data table notebook</a>'\n",
              "          + ' to learn more about interactive tables.';\n",
              "        element.innerHTML = '';\n",
              "        dataTable['output_type'] = 'display_data';\n",
              "        await google.colab.output.renderOutput(dataTable, element);\n",
              "        const docLink = document.createElement('div');\n",
              "        docLink.innerHTML = docLinkHtml;\n",
              "        element.appendChild(docLink);\n",
              "      }\n",
              "    </script>\n",
              "  </div>\n",
              "\n",
              "\n",
              "    </div>\n",
              "  </div>\n"
            ],
            "application/vnd.google.colaboratory.intrinsic+json": {
              "type": "dataframe",
              "summary": "{\n  \"name\": \"df[(df['nilai'] > 90) & (df['Usia'] > 18)]\",\n  \"rows\": 1,\n  \"fields\": [\n    {\n      \"column\": \"Nama\",\n      \"properties\": {\n        \"dtype\": \"string\",\n        \"num_unique_values\": 1,\n        \"samples\": [\n          \"Andi\"\n        ],\n        \"semantic_type\": \"\",\n        \"description\": \"\"\n      }\n    },\n    {\n      \"column\": \"Usia\",\n      \"properties\": {\n        \"dtype\": \"number\",\n        \"std\": null,\n        \"min\": 20,\n        \"max\": 20,\n        \"num_unique_values\": 1,\n        \"samples\": [\n          20\n        ],\n        \"semantic_type\": \"\",\n        \"description\": \"\"\n      }\n    },\n    {\n      \"column\": \"Prodi\",\n      \"properties\": {\n        \"dtype\": \"string\",\n        \"num_unique_values\": 1,\n        \"samples\": [\n          \"Ilkom\"\n        ],\n        \"semantic_type\": \"\",\n        \"description\": \"\"\n      }\n    },\n    {\n      \"column\": \"nilai\",\n      \"properties\": {\n        \"dtype\": \"number\",\n        \"std\": null,\n        \"min\": 95,\n        \"max\": 95,\n        \"num_unique_values\": 1,\n        \"samples\": [\n          95\n        ],\n        \"semantic_type\": \"\",\n        \"description\": \"\"\n      }\n    },\n    {\n      \"column\": \"Kampung\",\n      \"properties\": {\n        \"dtype\": \"string\",\n        \"num_unique_values\": 1,\n        \"samples\": [\n          \"Makassar\"\n        ],\n        \"semantic_type\": \"\",\n        \"description\": \"\"\n      }\n    },\n    {\n      \"column\": \"Angkatan\",\n      \"properties\": {\n        \"dtype\": \"number\",\n        \"std\": null,\n        \"min\": 2019,\n        \"max\": 2019,\n        \"num_unique_values\": 1,\n        \"samples\": [\n          2019\n        ],\n        \"semantic_type\": \"\",\n        \"description\": \"\"\n      }\n    },\n    {\n      \"column\": \"Beasiswa\",\n      \"properties\": {\n        \"dtype\": \"boolean\",\n        \"num_unique_values\": 1,\n        \"samples\": [\n          true\n        ],\n        \"semantic_type\": \"\",\n        \"description\": \"\"\n      }\n    }\n  ]\n}"
            }
          },
          "metadata": {},
          "execution_count": 29
        }
      ]
    },
    {
      "cell_type": "markdown",
      "source": [
        "##### Seleksi baris dan kolom menggunakan loc dan iloc\n",
        "-loc[]\n",
        "Digunakan untuk memilih data berdasarkan nama kolom atau indeks"
      ],
      "metadata": {
        "id": "0LWg24Ix-eNJ"
      }
    },
    {
      "cell_type": "code",
      "source": [
        "df.loc[2] #Mengambil baris dengan indeks 2\n",
        "df.loc[:, 'Nama'] # Mengambil semua baris hanya dari kolom nama\n",
        "df.loc[1:3, ['Nama', 'Angkatan']]  # Mengambil semua baris 1-3 dari kolom 'Nama' & 'Angkatan'"
      ],
      "metadata": {
        "colab": {
          "base_uri": "https://localhost:8080/",
          "height": 143
        },
        "id": "z-LegOoR-yKs",
        "outputId": "377761d5-ab8b-46ca-b4b2-69b7b8f502bb"
      },
      "execution_count": null,
      "outputs": [
        {
          "output_type": "execute_result",
          "data": {
            "text/plain": [
              "   Nama  Angkatan\n",
              "1  Budi      2020\n",
              "2  Caca      2021\n",
              "3  Dedi      2022"
            ],
            "text/html": [
              "\n",
              "  <div id=\"df-9877fd6e-8552-4148-a0b3-a529f092591b\" class=\"colab-df-container\">\n",
              "    <div>\n",
              "<style scoped>\n",
              "    .dataframe tbody tr th:only-of-type {\n",
              "        vertical-align: middle;\n",
              "    }\n",
              "\n",
              "    .dataframe tbody tr th {\n",
              "        vertical-align: top;\n",
              "    }\n",
              "\n",
              "    .dataframe thead th {\n",
              "        text-align: right;\n",
              "    }\n",
              "</style>\n",
              "<table border=\"1\" class=\"dataframe\">\n",
              "  <thead>\n",
              "    <tr style=\"text-align: right;\">\n",
              "      <th></th>\n",
              "      <th>Nama</th>\n",
              "      <th>Angkatan</th>\n",
              "    </tr>\n",
              "  </thead>\n",
              "  <tbody>\n",
              "    <tr>\n",
              "      <th>1</th>\n",
              "      <td>Budi</td>\n",
              "      <td>2020</td>\n",
              "    </tr>\n",
              "    <tr>\n",
              "      <th>2</th>\n",
              "      <td>Caca</td>\n",
              "      <td>2021</td>\n",
              "    </tr>\n",
              "    <tr>\n",
              "      <th>3</th>\n",
              "      <td>Dedi</td>\n",
              "      <td>2022</td>\n",
              "    </tr>\n",
              "  </tbody>\n",
              "</table>\n",
              "</div>\n",
              "    <div class=\"colab-df-buttons\">\n",
              "\n",
              "  <div class=\"colab-df-container\">\n",
              "    <button class=\"colab-df-convert\" onclick=\"convertToInteractive('df-9877fd6e-8552-4148-a0b3-a529f092591b')\"\n",
              "            title=\"Convert this dataframe to an interactive table.\"\n",
              "            style=\"display:none;\">\n",
              "\n",
              "  <svg xmlns=\"http://www.w3.org/2000/svg\" height=\"24px\" viewBox=\"0 -960 960 960\">\n",
              "    <path d=\"M120-120v-720h720v720H120Zm60-500h600v-160H180v160Zm220 220h160v-160H400v160Zm0 220h160v-160H400v160ZM180-400h160v-160H180v160Zm440 0h160v-160H620v160ZM180-180h160v-160H180v160Zm440 0h160v-160H620v160Z\"/>\n",
              "  </svg>\n",
              "    </button>\n",
              "\n",
              "  <style>\n",
              "    .colab-df-container {\n",
              "      display:flex;\n",
              "      gap: 12px;\n",
              "    }\n",
              "\n",
              "    .colab-df-convert {\n",
              "      background-color: #E8F0FE;\n",
              "      border: none;\n",
              "      border-radius: 50%;\n",
              "      cursor: pointer;\n",
              "      display: none;\n",
              "      fill: #1967D2;\n",
              "      height: 32px;\n",
              "      padding: 0 0 0 0;\n",
              "      width: 32px;\n",
              "    }\n",
              "\n",
              "    .colab-df-convert:hover {\n",
              "      background-color: #E2EBFA;\n",
              "      box-shadow: 0px 1px 2px rgba(60, 64, 67, 0.3), 0px 1px 3px 1px rgba(60, 64, 67, 0.15);\n",
              "      fill: #174EA6;\n",
              "    }\n",
              "\n",
              "    .colab-df-buttons div {\n",
              "      margin-bottom: 4px;\n",
              "    }\n",
              "\n",
              "    [theme=dark] .colab-df-convert {\n",
              "      background-color: #3B4455;\n",
              "      fill: #D2E3FC;\n",
              "    }\n",
              "\n",
              "    [theme=dark] .colab-df-convert:hover {\n",
              "      background-color: #434B5C;\n",
              "      box-shadow: 0px 1px 3px 1px rgba(0, 0, 0, 0.15);\n",
              "      filter: drop-shadow(0px 1px 2px rgba(0, 0, 0, 0.3));\n",
              "      fill: #FFFFFF;\n",
              "    }\n",
              "  </style>\n",
              "\n",
              "    <script>\n",
              "      const buttonEl =\n",
              "        document.querySelector('#df-9877fd6e-8552-4148-a0b3-a529f092591b button.colab-df-convert');\n",
              "      buttonEl.style.display =\n",
              "        google.colab.kernel.accessAllowed ? 'block' : 'none';\n",
              "\n",
              "      async function convertToInteractive(key) {\n",
              "        const element = document.querySelector('#df-9877fd6e-8552-4148-a0b3-a529f092591b');\n",
              "        const dataTable =\n",
              "          await google.colab.kernel.invokeFunction('convertToInteractive',\n",
              "                                                    [key], {});\n",
              "        if (!dataTable) return;\n",
              "\n",
              "        const docLinkHtml = 'Like what you see? Visit the ' +\n",
              "          '<a target=\"_blank\" href=https://colab.research.google.com/notebooks/data_table.ipynb>data table notebook</a>'\n",
              "          + ' to learn more about interactive tables.';\n",
              "        element.innerHTML = '';\n",
              "        dataTable['output_type'] = 'display_data';\n",
              "        await google.colab.output.renderOutput(dataTable, element);\n",
              "        const docLink = document.createElement('div');\n",
              "        docLink.innerHTML = docLinkHtml;\n",
              "        element.appendChild(docLink);\n",
              "      }\n",
              "    </script>\n",
              "  </div>\n",
              "\n",
              "\n",
              "<div id=\"df-d8cd8673-e5b1-40cc-86c3-e03cc2f095b7\">\n",
              "  <button class=\"colab-df-quickchart\" onclick=\"quickchart('df-d8cd8673-e5b1-40cc-86c3-e03cc2f095b7')\"\n",
              "            title=\"Suggest charts\"\n",
              "            style=\"display:none;\">\n",
              "\n",
              "<svg xmlns=\"http://www.w3.org/2000/svg\" height=\"24px\"viewBox=\"0 0 24 24\"\n",
              "     width=\"24px\">\n",
              "    <g>\n",
              "        <path d=\"M19 3H5c-1.1 0-2 .9-2 2v14c0 1.1.9 2 2 2h14c1.1 0 2-.9 2-2V5c0-1.1-.9-2-2-2zM9 17H7v-7h2v7zm4 0h-2V7h2v10zm4 0h-2v-4h2v4z\"/>\n",
              "    </g>\n",
              "</svg>\n",
              "  </button>\n",
              "\n",
              "<style>\n",
              "  .colab-df-quickchart {\n",
              "      --bg-color: #E8F0FE;\n",
              "      --fill-color: #1967D2;\n",
              "      --hover-bg-color: #E2EBFA;\n",
              "      --hover-fill-color: #174EA6;\n",
              "      --disabled-fill-color: #AAA;\n",
              "      --disabled-bg-color: #DDD;\n",
              "  }\n",
              "\n",
              "  [theme=dark] .colab-df-quickchart {\n",
              "      --bg-color: #3B4455;\n",
              "      --fill-color: #D2E3FC;\n",
              "      --hover-bg-color: #434B5C;\n",
              "      --hover-fill-color: #FFFFFF;\n",
              "      --disabled-bg-color: #3B4455;\n",
              "      --disabled-fill-color: #666;\n",
              "  }\n",
              "\n",
              "  .colab-df-quickchart {\n",
              "    background-color: var(--bg-color);\n",
              "    border: none;\n",
              "    border-radius: 50%;\n",
              "    cursor: pointer;\n",
              "    display: none;\n",
              "    fill: var(--fill-color);\n",
              "    height: 32px;\n",
              "    padding: 0;\n",
              "    width: 32px;\n",
              "  }\n",
              "\n",
              "  .colab-df-quickchart:hover {\n",
              "    background-color: var(--hover-bg-color);\n",
              "    box-shadow: 0 1px 2px rgba(60, 64, 67, 0.3), 0 1px 3px 1px rgba(60, 64, 67, 0.15);\n",
              "    fill: var(--button-hover-fill-color);\n",
              "  }\n",
              "\n",
              "  .colab-df-quickchart-complete:disabled,\n",
              "  .colab-df-quickchart-complete:disabled:hover {\n",
              "    background-color: var(--disabled-bg-color);\n",
              "    fill: var(--disabled-fill-color);\n",
              "    box-shadow: none;\n",
              "  }\n",
              "\n",
              "  .colab-df-spinner {\n",
              "    border: 2px solid var(--fill-color);\n",
              "    border-color: transparent;\n",
              "    border-bottom-color: var(--fill-color);\n",
              "    animation:\n",
              "      spin 1s steps(1) infinite;\n",
              "  }\n",
              "\n",
              "  @keyframes spin {\n",
              "    0% {\n",
              "      border-color: transparent;\n",
              "      border-bottom-color: var(--fill-color);\n",
              "      border-left-color: var(--fill-color);\n",
              "    }\n",
              "    20% {\n",
              "      border-color: transparent;\n",
              "      border-left-color: var(--fill-color);\n",
              "      border-top-color: var(--fill-color);\n",
              "    }\n",
              "    30% {\n",
              "      border-color: transparent;\n",
              "      border-left-color: var(--fill-color);\n",
              "      border-top-color: var(--fill-color);\n",
              "      border-right-color: var(--fill-color);\n",
              "    }\n",
              "    40% {\n",
              "      border-color: transparent;\n",
              "      border-right-color: var(--fill-color);\n",
              "      border-top-color: var(--fill-color);\n",
              "    }\n",
              "    60% {\n",
              "      border-color: transparent;\n",
              "      border-right-color: var(--fill-color);\n",
              "    }\n",
              "    80% {\n",
              "      border-color: transparent;\n",
              "      border-right-color: var(--fill-color);\n",
              "      border-bottom-color: var(--fill-color);\n",
              "    }\n",
              "    90% {\n",
              "      border-color: transparent;\n",
              "      border-bottom-color: var(--fill-color);\n",
              "    }\n",
              "  }\n",
              "</style>\n",
              "\n",
              "  <script>\n",
              "    async function quickchart(key) {\n",
              "      const quickchartButtonEl =\n",
              "        document.querySelector('#' + key + ' button');\n",
              "      quickchartButtonEl.disabled = true;  // To prevent multiple clicks.\n",
              "      quickchartButtonEl.classList.add('colab-df-spinner');\n",
              "      try {\n",
              "        const charts = await google.colab.kernel.invokeFunction(\n",
              "            'suggestCharts', [key], {});\n",
              "      } catch (error) {\n",
              "        console.error('Error during call to suggestCharts:', error);\n",
              "      }\n",
              "      quickchartButtonEl.classList.remove('colab-df-spinner');\n",
              "      quickchartButtonEl.classList.add('colab-df-quickchart-complete');\n",
              "    }\n",
              "    (() => {\n",
              "      let quickchartButtonEl =\n",
              "        document.querySelector('#df-d8cd8673-e5b1-40cc-86c3-e03cc2f095b7 button');\n",
              "      quickchartButtonEl.style.display =\n",
              "        google.colab.kernel.accessAllowed ? 'block' : 'none';\n",
              "    })();\n",
              "  </script>\n",
              "</div>\n",
              "\n",
              "    </div>\n",
              "  </div>\n"
            ],
            "application/vnd.google.colaboratory.intrinsic+json": {
              "type": "dataframe",
              "summary": "{\n  \"name\": \"df\",\n  \"rows\": 3,\n  \"fields\": [\n    {\n      \"column\": \"Nama\",\n      \"properties\": {\n        \"dtype\": \"string\",\n        \"num_unique_values\": 3,\n        \"samples\": [\n          \"Budi\",\n          \"Caca\",\n          \"Dedi\"\n        ],\n        \"semantic_type\": \"\",\n        \"description\": \"\"\n      }\n    },\n    {\n      \"column\": \"Angkatan\",\n      \"properties\": {\n        \"dtype\": \"number\",\n        \"std\": 1,\n        \"min\": 2020,\n        \"max\": 2022,\n        \"num_unique_values\": 3,\n        \"samples\": [\n          2020,\n          2021,\n          2022\n        ],\n        \"semantic_type\": \"\",\n        \"description\": \"\"\n      }\n    }\n  ]\n}"
            }
          },
          "metadata": {},
          "execution_count": 30
        }
      ]
    },
    {
      "cell_type": "code",
      "source": [
        "data_dipilih = df.loc[df['Prodi'] == 'Hukum', ['Nama', 'nilai']]\n",
        "print(data_dipilih)"
      ],
      "metadata": {
        "colab": {
          "base_uri": "https://localhost:8080/"
        },
        "id": "C2m65P4f_Fpl",
        "outputId": "4fb39c07-58d5-42f4-f505-f64865cbbdd3"
      },
      "execution_count": null,
      "outputs": [
        {
          "output_type": "stream",
          "name": "stdout",
          "text": [
            "   Nama  nilai\n",
            "1  Budi     90\n"
          ]
        }
      ]
    },
    {
      "cell_type": "markdown",
      "source": [
        "-iloc[]\n",
        "Digunakan untuk memilih data berdasarkan posisi indeks (seperti Array)\n"
      ],
      "metadata": {
        "id": "PCUSGy5A_k7c"
      }
    },
    {
      "cell_type": "code",
      "source": [
        "df.iloc[0] #Mengambil baris pertamaa\n",
        "df.iloc [:, 1] #Mengambil semua baris dari kolom kedua\n",
        "df.iloc[1:3, [0,2]] #Mengambil baris 1-2 dari kolom 0-1"
      ],
      "metadata": {
        "colab": {
          "base_uri": "https://localhost:8080/",
          "height": 112
        },
        "id": "gXaj7eyr_vRl",
        "outputId": "3e53b53a-8cc5-4434-fe8f-40399604570c"
      },
      "execution_count": null,
      "outputs": [
        {
          "output_type": "execute_result",
          "data": {
            "text/plain": [
              "   Nama   Prodi\n",
              "1  Budi   Hukum\n",
              "2  Caca  Teknik"
            ],
            "text/html": [
              "\n",
              "  <div id=\"df-ad424487-c689-4735-8b80-6bf7e540f4c9\" class=\"colab-df-container\">\n",
              "    <div>\n",
              "<style scoped>\n",
              "    .dataframe tbody tr th:only-of-type {\n",
              "        vertical-align: middle;\n",
              "    }\n",
              "\n",
              "    .dataframe tbody tr th {\n",
              "        vertical-align: top;\n",
              "    }\n",
              "\n",
              "    .dataframe thead th {\n",
              "        text-align: right;\n",
              "    }\n",
              "</style>\n",
              "<table border=\"1\" class=\"dataframe\">\n",
              "  <thead>\n",
              "    <tr style=\"text-align: right;\">\n",
              "      <th></th>\n",
              "      <th>Nama</th>\n",
              "      <th>Prodi</th>\n",
              "    </tr>\n",
              "  </thead>\n",
              "  <tbody>\n",
              "    <tr>\n",
              "      <th>1</th>\n",
              "      <td>Budi</td>\n",
              "      <td>Hukum</td>\n",
              "    </tr>\n",
              "    <tr>\n",
              "      <th>2</th>\n",
              "      <td>Caca</td>\n",
              "      <td>Teknik</td>\n",
              "    </tr>\n",
              "  </tbody>\n",
              "</table>\n",
              "</div>\n",
              "    <div class=\"colab-df-buttons\">\n",
              "\n",
              "  <div class=\"colab-df-container\">\n",
              "    <button class=\"colab-df-convert\" onclick=\"convertToInteractive('df-ad424487-c689-4735-8b80-6bf7e540f4c9')\"\n",
              "            title=\"Convert this dataframe to an interactive table.\"\n",
              "            style=\"display:none;\">\n",
              "\n",
              "  <svg xmlns=\"http://www.w3.org/2000/svg\" height=\"24px\" viewBox=\"0 -960 960 960\">\n",
              "    <path d=\"M120-120v-720h720v720H120Zm60-500h600v-160H180v160Zm220 220h160v-160H400v160Zm0 220h160v-160H400v160ZM180-400h160v-160H180v160Zm440 0h160v-160H620v160ZM180-180h160v-160H180v160Zm440 0h160v-160H620v160Z\"/>\n",
              "  </svg>\n",
              "    </button>\n",
              "\n",
              "  <style>\n",
              "    .colab-df-container {\n",
              "      display:flex;\n",
              "      gap: 12px;\n",
              "    }\n",
              "\n",
              "    .colab-df-convert {\n",
              "      background-color: #E8F0FE;\n",
              "      border: none;\n",
              "      border-radius: 50%;\n",
              "      cursor: pointer;\n",
              "      display: none;\n",
              "      fill: #1967D2;\n",
              "      height: 32px;\n",
              "      padding: 0 0 0 0;\n",
              "      width: 32px;\n",
              "    }\n",
              "\n",
              "    .colab-df-convert:hover {\n",
              "      background-color: #E2EBFA;\n",
              "      box-shadow: 0px 1px 2px rgba(60, 64, 67, 0.3), 0px 1px 3px 1px rgba(60, 64, 67, 0.15);\n",
              "      fill: #174EA6;\n",
              "    }\n",
              "\n",
              "    .colab-df-buttons div {\n",
              "      margin-bottom: 4px;\n",
              "    }\n",
              "\n",
              "    [theme=dark] .colab-df-convert {\n",
              "      background-color: #3B4455;\n",
              "      fill: #D2E3FC;\n",
              "    }\n",
              "\n",
              "    [theme=dark] .colab-df-convert:hover {\n",
              "      background-color: #434B5C;\n",
              "      box-shadow: 0px 1px 3px 1px rgba(0, 0, 0, 0.15);\n",
              "      filter: drop-shadow(0px 1px 2px rgba(0, 0, 0, 0.3));\n",
              "      fill: #FFFFFF;\n",
              "    }\n",
              "  </style>\n",
              "\n",
              "    <script>\n",
              "      const buttonEl =\n",
              "        document.querySelector('#df-ad424487-c689-4735-8b80-6bf7e540f4c9 button.colab-df-convert');\n",
              "      buttonEl.style.display =\n",
              "        google.colab.kernel.accessAllowed ? 'block' : 'none';\n",
              "\n",
              "      async function convertToInteractive(key) {\n",
              "        const element = document.querySelector('#df-ad424487-c689-4735-8b80-6bf7e540f4c9');\n",
              "        const dataTable =\n",
              "          await google.colab.kernel.invokeFunction('convertToInteractive',\n",
              "                                                    [key], {});\n",
              "        if (!dataTable) return;\n",
              "\n",
              "        const docLinkHtml = 'Like what you see? Visit the ' +\n",
              "          '<a target=\"_blank\" href=https://colab.research.google.com/notebooks/data_table.ipynb>data table notebook</a>'\n",
              "          + ' to learn more about interactive tables.';\n",
              "        element.innerHTML = '';\n",
              "        dataTable['output_type'] = 'display_data';\n",
              "        await google.colab.output.renderOutput(dataTable, element);\n",
              "        const docLink = document.createElement('div');\n",
              "        docLink.innerHTML = docLinkHtml;\n",
              "        element.appendChild(docLink);\n",
              "      }\n",
              "    </script>\n",
              "  </div>\n",
              "\n",
              "\n",
              "<div id=\"df-28d6b383-1213-46e7-8e8c-fcbd71c3c038\">\n",
              "  <button class=\"colab-df-quickchart\" onclick=\"quickchart('df-28d6b383-1213-46e7-8e8c-fcbd71c3c038')\"\n",
              "            title=\"Suggest charts\"\n",
              "            style=\"display:none;\">\n",
              "\n",
              "<svg xmlns=\"http://www.w3.org/2000/svg\" height=\"24px\"viewBox=\"0 0 24 24\"\n",
              "     width=\"24px\">\n",
              "    <g>\n",
              "        <path d=\"M19 3H5c-1.1 0-2 .9-2 2v14c0 1.1.9 2 2 2h14c1.1 0 2-.9 2-2V5c0-1.1-.9-2-2-2zM9 17H7v-7h2v7zm4 0h-2V7h2v10zm4 0h-2v-4h2v4z\"/>\n",
              "    </g>\n",
              "</svg>\n",
              "  </button>\n",
              "\n",
              "<style>\n",
              "  .colab-df-quickchart {\n",
              "      --bg-color: #E8F0FE;\n",
              "      --fill-color: #1967D2;\n",
              "      --hover-bg-color: #E2EBFA;\n",
              "      --hover-fill-color: #174EA6;\n",
              "      --disabled-fill-color: #AAA;\n",
              "      --disabled-bg-color: #DDD;\n",
              "  }\n",
              "\n",
              "  [theme=dark] .colab-df-quickchart {\n",
              "      --bg-color: #3B4455;\n",
              "      --fill-color: #D2E3FC;\n",
              "      --hover-bg-color: #434B5C;\n",
              "      --hover-fill-color: #FFFFFF;\n",
              "      --disabled-bg-color: #3B4455;\n",
              "      --disabled-fill-color: #666;\n",
              "  }\n",
              "\n",
              "  .colab-df-quickchart {\n",
              "    background-color: var(--bg-color);\n",
              "    border: none;\n",
              "    border-radius: 50%;\n",
              "    cursor: pointer;\n",
              "    display: none;\n",
              "    fill: var(--fill-color);\n",
              "    height: 32px;\n",
              "    padding: 0;\n",
              "    width: 32px;\n",
              "  }\n",
              "\n",
              "  .colab-df-quickchart:hover {\n",
              "    background-color: var(--hover-bg-color);\n",
              "    box-shadow: 0 1px 2px rgba(60, 64, 67, 0.3), 0 1px 3px 1px rgba(60, 64, 67, 0.15);\n",
              "    fill: var(--button-hover-fill-color);\n",
              "  }\n",
              "\n",
              "  .colab-df-quickchart-complete:disabled,\n",
              "  .colab-df-quickchart-complete:disabled:hover {\n",
              "    background-color: var(--disabled-bg-color);\n",
              "    fill: var(--disabled-fill-color);\n",
              "    box-shadow: none;\n",
              "  }\n",
              "\n",
              "  .colab-df-spinner {\n",
              "    border: 2px solid var(--fill-color);\n",
              "    border-color: transparent;\n",
              "    border-bottom-color: var(--fill-color);\n",
              "    animation:\n",
              "      spin 1s steps(1) infinite;\n",
              "  }\n",
              "\n",
              "  @keyframes spin {\n",
              "    0% {\n",
              "      border-color: transparent;\n",
              "      border-bottom-color: var(--fill-color);\n",
              "      border-left-color: var(--fill-color);\n",
              "    }\n",
              "    20% {\n",
              "      border-color: transparent;\n",
              "      border-left-color: var(--fill-color);\n",
              "      border-top-color: var(--fill-color);\n",
              "    }\n",
              "    30% {\n",
              "      border-color: transparent;\n",
              "      border-left-color: var(--fill-color);\n",
              "      border-top-color: var(--fill-color);\n",
              "      border-right-color: var(--fill-color);\n",
              "    }\n",
              "    40% {\n",
              "      border-color: transparent;\n",
              "      border-right-color: var(--fill-color);\n",
              "      border-top-color: var(--fill-color);\n",
              "    }\n",
              "    60% {\n",
              "      border-color: transparent;\n",
              "      border-right-color: var(--fill-color);\n",
              "    }\n",
              "    80% {\n",
              "      border-color: transparent;\n",
              "      border-right-color: var(--fill-color);\n",
              "      border-bottom-color: var(--fill-color);\n",
              "    }\n",
              "    90% {\n",
              "      border-color: transparent;\n",
              "      border-bottom-color: var(--fill-color);\n",
              "    }\n",
              "  }\n",
              "</style>\n",
              "\n",
              "  <script>\n",
              "    async function quickchart(key) {\n",
              "      const quickchartButtonEl =\n",
              "        document.querySelector('#' + key + ' button');\n",
              "      quickchartButtonEl.disabled = true;  // To prevent multiple clicks.\n",
              "      quickchartButtonEl.classList.add('colab-df-spinner');\n",
              "      try {\n",
              "        const charts = await google.colab.kernel.invokeFunction(\n",
              "            'suggestCharts', [key], {});\n",
              "      } catch (error) {\n",
              "        console.error('Error during call to suggestCharts:', error);\n",
              "      }\n",
              "      quickchartButtonEl.classList.remove('colab-df-spinner');\n",
              "      quickchartButtonEl.classList.add('colab-df-quickchart-complete');\n",
              "    }\n",
              "    (() => {\n",
              "      let quickchartButtonEl =\n",
              "        document.querySelector('#df-28d6b383-1213-46e7-8e8c-fcbd71c3c038 button');\n",
              "      quickchartButtonEl.style.display =\n",
              "        google.colab.kernel.accessAllowed ? 'block' : 'none';\n",
              "    })();\n",
              "  </script>\n",
              "</div>\n",
              "\n",
              "    </div>\n",
              "  </div>\n"
            ],
            "application/vnd.google.colaboratory.intrinsic+json": {
              "type": "dataframe",
              "summary": "{\n  \"name\": \"df\",\n  \"rows\": 2,\n  \"fields\": [\n    {\n      \"column\": \"Nama\",\n      \"properties\": {\n        \"dtype\": \"string\",\n        \"num_unique_values\": 2,\n        \"samples\": [\n          \"Caca\",\n          \"Budi\"\n        ],\n        \"semantic_type\": \"\",\n        \"description\": \"\"\n      }\n    },\n    {\n      \"column\": \"Prodi\",\n      \"properties\": {\n        \"dtype\": \"string\",\n        \"num_unique_values\": 2,\n        \"samples\": [\n          \"Teknik\",\n          \"Hukum\"\n        ],\n        \"semantic_type\": \"\",\n        \"description\": \"\"\n      }\n    }\n  ]\n}"
            }
          },
          "metadata": {},
          "execution_count": 32
        }
      ]
    },
    {
      "cell_type": "markdown",
      "source": [
        "#Transformasi Data\n",
        "##### Proses mengubah atau memodifikasi data agar sesuai dengan kebutuhan analisis atau pemodelan.\n",
        "\n",
        "\n"
      ],
      "metadata": {
        "id": "S7xcYpf0Baw2"
      }
    },
    {
      "cell_type": "markdown",
      "source": [
        "##### Menerapkan Fungsi"
      ],
      "metadata": {
        "id": "Y1TyCBDsB4Yi"
      }
    },
    {
      "cell_type": "code",
      "source": [
        "# Menerapkan fungsi pada setiap elemen kolum\n",
        "df['nilai'] = df['nilai'].apply(lambda x: 'A' if x >= 90 else 'B')\n",
        "print(df)"
      ],
      "metadata": {
        "colab": {
          "base_uri": "https://localhost:8080/"
        },
        "id": "G-moYk-FUeWx",
        "outputId": "c7c86aed-aa03-413f-dce2-8bddeea620ee"
      },
      "execution_count": null,
      "outputs": [
        {
          "output_type": "stream",
          "name": "stdout",
          "text": [
            "    Nama  Usia       Prodi nilai     Kampung  Angkatan  Beasiswa\n",
            "0   Andi    20       Ilkom     A    Makassar      2019      True\n",
            "1   Budi    21       Hukum     A    Parepare      2020     False\n",
            "2   Caca    19      Teknik     A     Jakarta      2021      True\n",
            "3   Dedi    22     Ekonomi     B    Surabaya      2022     False\n",
            "4  Restu    23      Sastra     B      Malang      2023      True\n",
            "5  Rizky    20  Kedokteran     B  Yogyakarta      2024     False\n"
          ]
        }
      ]
    },
    {
      "cell_type": "markdown",
      "source": [
        "##### Operasi Matematika\n",
        "###### Melakukan perhitungan langsung pada kolom DataFrame"
      ],
      "metadata": {
        "id": "BbUCeXDNVBq5"
      }
    },
    {
      "cell_type": "code",
      "source": [
        "df['nilai'] + 2"
      ],
      "metadata": {
        "colab": {
          "base_uri": "https://localhost:8080/",
          "height": 272
        },
        "id": "N1tyecQmVT4q",
        "outputId": "f1b12cca-df31-4069-8b24-5bb9fe319198"
      },
      "execution_count": null,
      "outputs": [
        {
          "output_type": "execute_result",
          "data": {
            "text/plain": [
              "0    97\n",
              "1    92\n",
              "2    87\n",
              "3    82\n",
              "4    77\n",
              "5    72\n",
              "Name: nilai, dtype: int64"
            ],
            "text/html": [
              "<div>\n",
              "<style scoped>\n",
              "    .dataframe tbody tr th:only-of-type {\n",
              "        vertical-align: middle;\n",
              "    }\n",
              "\n",
              "    .dataframe tbody tr th {\n",
              "        vertical-align: top;\n",
              "    }\n",
              "\n",
              "    .dataframe thead th {\n",
              "        text-align: right;\n",
              "    }\n",
              "</style>\n",
              "<table border=\"1\" class=\"dataframe\">\n",
              "  <thead>\n",
              "    <tr style=\"text-align: right;\">\n",
              "      <th></th>\n",
              "      <th>nilai</th>\n",
              "    </tr>\n",
              "  </thead>\n",
              "  <tbody>\n",
              "    <tr>\n",
              "      <th>0</th>\n",
              "      <td>97</td>\n",
              "    </tr>\n",
              "    <tr>\n",
              "      <th>1</th>\n",
              "      <td>92</td>\n",
              "    </tr>\n",
              "    <tr>\n",
              "      <th>2</th>\n",
              "      <td>87</td>\n",
              "    </tr>\n",
              "    <tr>\n",
              "      <th>3</th>\n",
              "      <td>82</td>\n",
              "    </tr>\n",
              "    <tr>\n",
              "      <th>4</th>\n",
              "      <td>77</td>\n",
              "    </tr>\n",
              "    <tr>\n",
              "      <th>5</th>\n",
              "      <td>72</td>\n",
              "    </tr>\n",
              "  </tbody>\n",
              "</table>\n",
              "</div><br><label><b>dtype:</b> int64</label>"
            ]
          },
          "metadata": {},
          "execution_count": 33
        }
      ]
    },
    {
      "cell_type": "markdown",
      "source": [
        "##### Operasi Matematika\n",
        "###### Modif nilai string dalam kolom"
      ],
      "metadata": {
        "id": "BBypHX4GZ2az"
      }
    },
    {
      "cell_type": "code",
      "source": [
        "df['Kampung'].str.upper()"
      ],
      "metadata": {
        "colab": {
          "base_uri": "https://localhost:8080/",
          "height": 272
        },
        "id": "SQel-PsdZ1JY",
        "outputId": "2a32effa-7cc1-48f5-bb06-51eb271bf9e3"
      },
      "execution_count": null,
      "outputs": [
        {
          "output_type": "execute_result",
          "data": {
            "text/plain": [
              "0      MAKASSAR\n",
              "1      PAREPARE\n",
              "2       JAKARTA\n",
              "3      SURABAYA\n",
              "4        MALANG\n",
              "5    YOGYAKARTA\n",
              "Name: Kampung, dtype: object"
            ],
            "text/html": [
              "<div>\n",
              "<style scoped>\n",
              "    .dataframe tbody tr th:only-of-type {\n",
              "        vertical-align: middle;\n",
              "    }\n",
              "\n",
              "    .dataframe tbody tr th {\n",
              "        vertical-align: top;\n",
              "    }\n",
              "\n",
              "    .dataframe thead th {\n",
              "        text-align: right;\n",
              "    }\n",
              "</style>\n",
              "<table border=\"1\" class=\"dataframe\">\n",
              "  <thead>\n",
              "    <tr style=\"text-align: right;\">\n",
              "      <th></th>\n",
              "      <th>Kampung</th>\n",
              "    </tr>\n",
              "  </thead>\n",
              "  <tbody>\n",
              "    <tr>\n",
              "      <th>0</th>\n",
              "      <td>MAKASSAR</td>\n",
              "    </tr>\n",
              "    <tr>\n",
              "      <th>1</th>\n",
              "      <td>PAREPARE</td>\n",
              "    </tr>\n",
              "    <tr>\n",
              "      <th>2</th>\n",
              "      <td>JAKARTA</td>\n",
              "    </tr>\n",
              "    <tr>\n",
              "      <th>3</th>\n",
              "      <td>SURABAYA</td>\n",
              "    </tr>\n",
              "    <tr>\n",
              "      <th>4</th>\n",
              "      <td>MALANG</td>\n",
              "    </tr>\n",
              "    <tr>\n",
              "      <th>5</th>\n",
              "      <td>YOGYAKARTA</td>\n",
              "    </tr>\n",
              "  </tbody>\n",
              "</table>\n",
              "</div><br><label><b>dtype:</b> object</label>"
            ]
          },
          "metadata": {},
          "execution_count": 36
        }
      ]
    },
    {
      "cell_type": "markdown",
      "source": [
        "#### Menganti Ulang nama kolom"
      ],
      "metadata": {
        "id": "IlAHzHyeaVuY"
      }
    },
    {
      "cell_type": "code",
      "source": [
        "df.rename(columns={'Prodi': 'Jurusan'}, inplace=True)"
      ],
      "metadata": {
        "id": "8KzJrwnZabPE"
      },
      "execution_count": null,
      "outputs": []
    },
    {
      "cell_type": "code",
      "source": [
        "print(df)"
      ],
      "metadata": {
        "colab": {
          "base_uri": "https://localhost:8080/"
        },
        "id": "YOZnSnFpbADV",
        "outputId": "e6e50bca-7a5e-4e25-9c64-4f2768abcbfa"
      },
      "execution_count": null,
      "outputs": [
        {
          "output_type": "stream",
          "name": "stdout",
          "text": [
            "    Nama  Usia     Jurusan  nilai     Kampung  Angkatan  Beasiswa\n",
            "0   Andi    20       Ilkom     95    Makassar      2019      True\n",
            "1   Budi    21       Hukum     90    Parepare      2020     False\n",
            "2   Caca    19      Teknik     85     Jakarta      2021      True\n",
            "3   Dedi    22     Ekonomi     80    Surabaya      2022     False\n",
            "4  Restu    23      Sastra     75      Malang      2023      True\n",
            "5  Rizky    20  Kedokteran     70  Yogyakarta      2024     False\n"
          ]
        }
      ]
    },
    {
      "cell_type": "markdown",
      "source": [
        "##### Sorting"
      ],
      "metadata": {
        "id": "_Z6YzLncbPnS"
      }
    },
    {
      "cell_type": "code",
      "source": [
        "df.sort_values(by='nilai', ascending=False)"
      ],
      "metadata": {
        "colab": {
          "base_uri": "https://localhost:8080/",
          "height": 237
        },
        "id": "RAgdx6m3bVXo",
        "outputId": "51f24a2b-e05e-4a0d-84a4-c17470207e54"
      },
      "execution_count": null,
      "outputs": [
        {
          "output_type": "execute_result",
          "data": {
            "text/plain": [
              "    Nama  Usia     Jurusan  nilai     Kampung  Angkatan  Beasiswa\n",
              "5  Rizky    20  Kedokteran     70  Yogyakarta      2024     False\n",
              "4  Restu    23      Sastra     75      Malang      2023      True\n",
              "3   Dedi    22     Ekonomi     80    Surabaya      2022     False\n",
              "2   Caca    19      Teknik     85     Jakarta      2021      True\n",
              "1   Budi    21       Hukum     90    Parepare      2020     False\n",
              "0   Andi    20       Ilkom     95    Makassar      2019      True"
            ],
            "text/html": [
              "\n",
              "  <div id=\"df-3a74483b-62b0-42bf-ab06-bc95e7aa4e96\" class=\"colab-df-container\">\n",
              "    <div>\n",
              "<style scoped>\n",
              "    .dataframe tbody tr th:only-of-type {\n",
              "        vertical-align: middle;\n",
              "    }\n",
              "\n",
              "    .dataframe tbody tr th {\n",
              "        vertical-align: top;\n",
              "    }\n",
              "\n",
              "    .dataframe thead th {\n",
              "        text-align: right;\n",
              "    }\n",
              "</style>\n",
              "<table border=\"1\" class=\"dataframe\">\n",
              "  <thead>\n",
              "    <tr style=\"text-align: right;\">\n",
              "      <th></th>\n",
              "      <th>Nama</th>\n",
              "      <th>Usia</th>\n",
              "      <th>Jurusan</th>\n",
              "      <th>nilai</th>\n",
              "      <th>Kampung</th>\n",
              "      <th>Angkatan</th>\n",
              "      <th>Beasiswa</th>\n",
              "    </tr>\n",
              "  </thead>\n",
              "  <tbody>\n",
              "    <tr>\n",
              "      <th>5</th>\n",
              "      <td>Rizky</td>\n",
              "      <td>20</td>\n",
              "      <td>Kedokteran</td>\n",
              "      <td>70</td>\n",
              "      <td>Yogyakarta</td>\n",
              "      <td>2024</td>\n",
              "      <td>False</td>\n",
              "    </tr>\n",
              "    <tr>\n",
              "      <th>4</th>\n",
              "      <td>Restu</td>\n",
              "      <td>23</td>\n",
              "      <td>Sastra</td>\n",
              "      <td>75</td>\n",
              "      <td>Malang</td>\n",
              "      <td>2023</td>\n",
              "      <td>True</td>\n",
              "    </tr>\n",
              "    <tr>\n",
              "      <th>3</th>\n",
              "      <td>Dedi</td>\n",
              "      <td>22</td>\n",
              "      <td>Ekonomi</td>\n",
              "      <td>80</td>\n",
              "      <td>Surabaya</td>\n",
              "      <td>2022</td>\n",
              "      <td>False</td>\n",
              "    </tr>\n",
              "    <tr>\n",
              "      <th>2</th>\n",
              "      <td>Caca</td>\n",
              "      <td>19</td>\n",
              "      <td>Teknik</td>\n",
              "      <td>85</td>\n",
              "      <td>Jakarta</td>\n",
              "      <td>2021</td>\n",
              "      <td>True</td>\n",
              "    </tr>\n",
              "    <tr>\n",
              "      <th>1</th>\n",
              "      <td>Budi</td>\n",
              "      <td>21</td>\n",
              "      <td>Hukum</td>\n",
              "      <td>90</td>\n",
              "      <td>Parepare</td>\n",
              "      <td>2020</td>\n",
              "      <td>False</td>\n",
              "    </tr>\n",
              "    <tr>\n",
              "      <th>0</th>\n",
              "      <td>Andi</td>\n",
              "      <td>20</td>\n",
              "      <td>Ilkom</td>\n",
              "      <td>95</td>\n",
              "      <td>Makassar</td>\n",
              "      <td>2019</td>\n",
              "      <td>True</td>\n",
              "    </tr>\n",
              "  </tbody>\n",
              "</table>\n",
              "</div>\n",
              "    <div class=\"colab-df-buttons\">\n",
              "\n",
              "  <div class=\"colab-df-container\">\n",
              "    <button class=\"colab-df-convert\" onclick=\"convertToInteractive('df-3a74483b-62b0-42bf-ab06-bc95e7aa4e96')\"\n",
              "            title=\"Convert this dataframe to an interactive table.\"\n",
              "            style=\"display:none;\">\n",
              "\n",
              "  <svg xmlns=\"http://www.w3.org/2000/svg\" height=\"24px\" viewBox=\"0 -960 960 960\">\n",
              "    <path d=\"M120-120v-720h720v720H120Zm60-500h600v-160H180v160Zm220 220h160v-160H400v160Zm0 220h160v-160H400v160ZM180-400h160v-160H180v160Zm440 0h160v-160H620v160ZM180-180h160v-160H180v160Zm440 0h160v-160H620v160Z\"/>\n",
              "  </svg>\n",
              "    </button>\n",
              "\n",
              "  <style>\n",
              "    .colab-df-container {\n",
              "      display:flex;\n",
              "      gap: 12px;\n",
              "    }\n",
              "\n",
              "    .colab-df-convert {\n",
              "      background-color: #E8F0FE;\n",
              "      border: none;\n",
              "      border-radius: 50%;\n",
              "      cursor: pointer;\n",
              "      display: none;\n",
              "      fill: #1967D2;\n",
              "      height: 32px;\n",
              "      padding: 0 0 0 0;\n",
              "      width: 32px;\n",
              "    }\n",
              "\n",
              "    .colab-df-convert:hover {\n",
              "      background-color: #E2EBFA;\n",
              "      box-shadow: 0px 1px 2px rgba(60, 64, 67, 0.3), 0px 1px 3px 1px rgba(60, 64, 67, 0.15);\n",
              "      fill: #174EA6;\n",
              "    }\n",
              "\n",
              "    .colab-df-buttons div {\n",
              "      margin-bottom: 4px;\n",
              "    }\n",
              "\n",
              "    [theme=dark] .colab-df-convert {\n",
              "      background-color: #3B4455;\n",
              "      fill: #D2E3FC;\n",
              "    }\n",
              "\n",
              "    [theme=dark] .colab-df-convert:hover {\n",
              "      background-color: #434B5C;\n",
              "      box-shadow: 0px 1px 3px 1px rgba(0, 0, 0, 0.15);\n",
              "      filter: drop-shadow(0px 1px 2px rgba(0, 0, 0, 0.3));\n",
              "      fill: #FFFFFF;\n",
              "    }\n",
              "  </style>\n",
              "\n",
              "    <script>\n",
              "      const buttonEl =\n",
              "        document.querySelector('#df-3a74483b-62b0-42bf-ab06-bc95e7aa4e96 button.colab-df-convert');\n",
              "      buttonEl.style.display =\n",
              "        google.colab.kernel.accessAllowed ? 'block' : 'none';\n",
              "\n",
              "      async function convertToInteractive(key) {\n",
              "        const element = document.querySelector('#df-3a74483b-62b0-42bf-ab06-bc95e7aa4e96');\n",
              "        const dataTable =\n",
              "          await google.colab.kernel.invokeFunction('convertToInteractive',\n",
              "                                                    [key], {});\n",
              "        if (!dataTable) return;\n",
              "\n",
              "        const docLinkHtml = 'Like what you see? Visit the ' +\n",
              "          '<a target=\"_blank\" href=https://colab.research.google.com/notebooks/data_table.ipynb>data table notebook</a>'\n",
              "          + ' to learn more about interactive tables.';\n",
              "        element.innerHTML = '';\n",
              "        dataTable['output_type'] = 'display_data';\n",
              "        await google.colab.output.renderOutput(dataTable, element);\n",
              "        const docLink = document.createElement('div');\n",
              "        docLink.innerHTML = docLinkHtml;\n",
              "        element.appendChild(docLink);\n",
              "      }\n",
              "    </script>\n",
              "  </div>\n",
              "\n",
              "\n",
              "<div id=\"df-4dc34443-c675-4c72-9b6a-046837738ddf\">\n",
              "  <button class=\"colab-df-quickchart\" onclick=\"quickchart('df-4dc34443-c675-4c72-9b6a-046837738ddf')\"\n",
              "            title=\"Suggest charts\"\n",
              "            style=\"display:none;\">\n",
              "\n",
              "<svg xmlns=\"http://www.w3.org/2000/svg\" height=\"24px\"viewBox=\"0 0 24 24\"\n",
              "     width=\"24px\">\n",
              "    <g>\n",
              "        <path d=\"M19 3H5c-1.1 0-2 .9-2 2v14c0 1.1.9 2 2 2h14c1.1 0 2-.9 2-2V5c0-1.1-.9-2-2-2zM9 17H7v-7h2v7zm4 0h-2V7h2v10zm4 0h-2v-4h2v4z\"/>\n",
              "    </g>\n",
              "</svg>\n",
              "  </button>\n",
              "\n",
              "<style>\n",
              "  .colab-df-quickchart {\n",
              "      --bg-color: #E8F0FE;\n",
              "      --fill-color: #1967D2;\n",
              "      --hover-bg-color: #E2EBFA;\n",
              "      --hover-fill-color: #174EA6;\n",
              "      --disabled-fill-color: #AAA;\n",
              "      --disabled-bg-color: #DDD;\n",
              "  }\n",
              "\n",
              "  [theme=dark] .colab-df-quickchart {\n",
              "      --bg-color: #3B4455;\n",
              "      --fill-color: #D2E3FC;\n",
              "      --hover-bg-color: #434B5C;\n",
              "      --hover-fill-color: #FFFFFF;\n",
              "      --disabled-bg-color: #3B4455;\n",
              "      --disabled-fill-color: #666;\n",
              "  }\n",
              "\n",
              "  .colab-df-quickchart {\n",
              "    background-color: var(--bg-color);\n",
              "    border: none;\n",
              "    border-radius: 50%;\n",
              "    cursor: pointer;\n",
              "    display: none;\n",
              "    fill: var(--fill-color);\n",
              "    height: 32px;\n",
              "    padding: 0;\n",
              "    width: 32px;\n",
              "  }\n",
              "\n",
              "  .colab-df-quickchart:hover {\n",
              "    background-color: var(--hover-bg-color);\n",
              "    box-shadow: 0 1px 2px rgba(60, 64, 67, 0.3), 0 1px 3px 1px rgba(60, 64, 67, 0.15);\n",
              "    fill: var(--button-hover-fill-color);\n",
              "  }\n",
              "\n",
              "  .colab-df-quickchart-complete:disabled,\n",
              "  .colab-df-quickchart-complete:disabled:hover {\n",
              "    background-color: var(--disabled-bg-color);\n",
              "    fill: var(--disabled-fill-color);\n",
              "    box-shadow: none;\n",
              "  }\n",
              "\n",
              "  .colab-df-spinner {\n",
              "    border: 2px solid var(--fill-color);\n",
              "    border-color: transparent;\n",
              "    border-bottom-color: var(--fill-color);\n",
              "    animation:\n",
              "      spin 1s steps(1) infinite;\n",
              "  }\n",
              "\n",
              "  @keyframes spin {\n",
              "    0% {\n",
              "      border-color: transparent;\n",
              "      border-bottom-color: var(--fill-color);\n",
              "      border-left-color: var(--fill-color);\n",
              "    }\n",
              "    20% {\n",
              "      border-color: transparent;\n",
              "      border-left-color: var(--fill-color);\n",
              "      border-top-color: var(--fill-color);\n",
              "    }\n",
              "    30% {\n",
              "      border-color: transparent;\n",
              "      border-left-color: var(--fill-color);\n",
              "      border-top-color: var(--fill-color);\n",
              "      border-right-color: var(--fill-color);\n",
              "    }\n",
              "    40% {\n",
              "      border-color: transparent;\n",
              "      border-right-color: var(--fill-color);\n",
              "      border-top-color: var(--fill-color);\n",
              "    }\n",
              "    60% {\n",
              "      border-color: transparent;\n",
              "      border-right-color: var(--fill-color);\n",
              "    }\n",
              "    80% {\n",
              "      border-color: transparent;\n",
              "      border-right-color: var(--fill-color);\n",
              "      border-bottom-color: var(--fill-color);\n",
              "    }\n",
              "    90% {\n",
              "      border-color: transparent;\n",
              "      border-bottom-color: var(--fill-color);\n",
              "    }\n",
              "  }\n",
              "</style>\n",
              "\n",
              "  <script>\n",
              "    async function quickchart(key) {\n",
              "      const quickchartButtonEl =\n",
              "        document.querySelector('#' + key + ' button');\n",
              "      quickchartButtonEl.disabled = true;  // To prevent multiple clicks.\n",
              "      quickchartButtonEl.classList.add('colab-df-spinner');\n",
              "      try {\n",
              "        const charts = await google.colab.kernel.invokeFunction(\n",
              "            'suggestCharts', [key], {});\n",
              "      } catch (error) {\n",
              "        console.error('Error during call to suggestCharts:', error);\n",
              "      }\n",
              "      quickchartButtonEl.classList.remove('colab-df-spinner');\n",
              "      quickchartButtonEl.classList.add('colab-df-quickchart-complete');\n",
              "    }\n",
              "    (() => {\n",
              "      let quickchartButtonEl =\n",
              "        document.querySelector('#df-4dc34443-c675-4c72-9b6a-046837738ddf button');\n",
              "      quickchartButtonEl.style.display =\n",
              "        google.colab.kernel.accessAllowed ? 'block' : 'none';\n",
              "    })();\n",
              "  </script>\n",
              "</div>\n",
              "\n",
              "    </div>\n",
              "  </div>\n"
            ],
            "application/vnd.google.colaboratory.intrinsic+json": {
              "type": "dataframe",
              "summary": "{\n  \"name\": \"df\",\n  \"rows\": 6,\n  \"fields\": [\n    {\n      \"column\": \"Nama\",\n      \"properties\": {\n        \"dtype\": \"string\",\n        \"num_unique_values\": 6,\n        \"samples\": [\n          \"Rizky\",\n          \"Restu\",\n          \"Andi\"\n        ],\n        \"semantic_type\": \"\",\n        \"description\": \"\"\n      }\n    },\n    {\n      \"column\": \"Usia\",\n      \"properties\": {\n        \"dtype\": \"number\",\n        \"std\": 1,\n        \"min\": 19,\n        \"max\": 23,\n        \"num_unique_values\": 5,\n        \"samples\": [\n          23,\n          21,\n          22\n        ],\n        \"semantic_type\": \"\",\n        \"description\": \"\"\n      }\n    },\n    {\n      \"column\": \"Jurusan\",\n      \"properties\": {\n        \"dtype\": \"string\",\n        \"num_unique_values\": 6,\n        \"samples\": [\n          \"Kedokteran\",\n          \"Sastra\",\n          \"Ilkom\"\n        ],\n        \"semantic_type\": \"\",\n        \"description\": \"\"\n      }\n    },\n    {\n      \"column\": \"nilai\",\n      \"properties\": {\n        \"dtype\": \"number\",\n        \"std\": 9,\n        \"min\": 70,\n        \"max\": 95,\n        \"num_unique_values\": 6,\n        \"samples\": [\n          70,\n          75,\n          95\n        ],\n        \"semantic_type\": \"\",\n        \"description\": \"\"\n      }\n    },\n    {\n      \"column\": \"Kampung\",\n      \"properties\": {\n        \"dtype\": \"string\",\n        \"num_unique_values\": 6,\n        \"samples\": [\n          \"Yogyakarta\",\n          \"Malang\",\n          \"Makassar\"\n        ],\n        \"semantic_type\": \"\",\n        \"description\": \"\"\n      }\n    },\n    {\n      \"column\": \"Angkatan\",\n      \"properties\": {\n        \"dtype\": \"number\",\n        \"std\": 1,\n        \"min\": 2019,\n        \"max\": 2024,\n        \"num_unique_values\": 6,\n        \"samples\": [\n          2024,\n          2023,\n          2019\n        ],\n        \"semantic_type\": \"\",\n        \"description\": \"\"\n      }\n    },\n    {\n      \"column\": \"Beasiswa\",\n      \"properties\": {\n        \"dtype\": \"boolean\",\n        \"num_unique_values\": 2,\n        \"samples\": [\n          true,\n          false\n        ],\n        \"semantic_type\": \"\",\n        \"description\": \"\"\n      }\n    }\n  ]\n}"
            }
          },
          "metadata": {},
          "execution_count": 45
        }
      ]
    },
    {
      "cell_type": "markdown",
      "source": [
        "#Agregasi dan Pengelompokan Data\n",
        "##### Bakal ada waktu dimana kita bakal menggabungkan dan meringkas data untuk mendapatlan perspektif baru. Di pandas sudah ada beberapa metode untuk melakukan hal ini (Penjumlahan, rata-rata, nilai max/min, dll).\n",
        "\n",
        "\n"
      ],
      "metadata": {
        "id": "ugr4meLYc9j8"
      }
    },
    {
      "cell_type": "code",
      "source": [
        "# Kelompokkan berdasarkan beasiswa lalu hitung rata-rata nilai setiap kelompok\n",
        "data_beasiswa = df.groupby('Beasiswa')['nilai'].mean()\n",
        "print(data_beasiswa)"
      ],
      "metadata": {
        "colab": {
          "base_uri": "https://localhost:8080/"
        },
        "id": "QdY03yMkbiQx",
        "outputId": "44fe708d-441f-4f09-acbe-988ccdaa2442"
      },
      "execution_count": null,
      "outputs": [
        {
          "output_type": "stream",
          "name": "stdout",
          "text": [
            "Beasiswa\n",
            "False    80.0\n",
            "True     85.0\n",
            "Name: nilai, dtype: float64\n"
          ]
        }
      ]
    },
    {
      "cell_type": "markdown",
      "source": [
        "######Setelah mengelompokkan data, kamu bisa menerapkan fungsi agregat pada tiap grupnya untuk membuat kesimpulan atau hitung statistiknya, untuk melihat perbandingan keduyanya"
      ],
      "metadata": {
        "id": "eO1WiT8y0rOC"
      }
    },
    {
      "cell_type": "markdown",
      "source": [
        "#Merge dan join dalam pandas\n",
        "\n",
        "Ada beberapa jenis merge dalam pandas yaitu :\n",
        "- Inner Merge → Hanya menyimpan baris dengan nilai yang cocok di kedua DataFrame.\n",
        "\n",
        "- Left Merge → Menyimpan semua baris dari DataFrame kiri dan mencocokkan dengan DataFrame kanan (jika tidak cocok, diisi NaN).\n",
        "\n",
        "- Right Merge → Menyimpan semua baris dari DataFrame kanan dan mencocokkan dengan DataFrame kiri (jika tidak cocok, diisi NaN).\n",
        "\n",
        "- Outer Merge → Menggabungkan semua baris dari kedua DataFrame (mengisi NaN jika tidak ada kecocokan)."
      ],
      "metadata": {
        "id": "BemG-63K2vtT"
      }
    },
    {
      "cell_type": "code",
      "source": [
        "#Agregasi dan Pengelompokan Data\n",
        "\n",
        "#Membuat DataFrame baru\n",
        "\n",
        "df_aneh = pd.DataFrame({\n",
        "    'Nama': ['Abdul', 'Baco', 'Cholyn', 'Dimas'],\n",
        "    'Umur': [20, 21, 22, 23]\n",
        "  })\n",
        "\n",
        "print(df_aneh)"
      ],
      "metadata": {
        "colab": {
          "base_uri": "https://localhost:8080/"
        },
        "id": "bEswTDNV1JHC",
        "outputId": "1044e7bf-b8f5-4882-a4ed-3bf27992f18c"
      },
      "execution_count": 56,
      "outputs": [
        {
          "output_type": "stream",
          "name": "stdout",
          "text": [
            "     Nama  Umur\n",
            "0   Abdul    20\n",
            "1    Baco    21\n",
            "2  Cholyn    22\n",
            "3   Dimas    23\n"
          ]
        }
      ]
    },
    {
      "cell_type": "code",
      "source": [
        "#Df dengan matkul;\n",
        "df_naneh = pd.DataFrame({\n",
        "    'Nama': ['Ammar', 'Baso', 'Comel', 'Dinding'],\n",
        "    'Matkul': ['Teknik Kedokteran', 'Sastra Mesin', 'Perikanan & Perkelahian', 'Ilmu looksmaxxing']\n",
        "  })\n",
        "print(df_naneh)"
      ],
      "metadata": {
        "colab": {
          "base_uri": "https://localhost:8080/"
        },
        "id": "qadtX1pV5smY",
        "outputId": "b4eca31f-e0f7-4141-d424-a913ea23e539"
      },
      "execution_count": 57,
      "outputs": [
        {
          "output_type": "stream",
          "name": "stdout",
          "text": [
            "      Nama                   Matkul\n",
            "0    Ammar        Teknik Kedokteran\n",
            "1     Baso             Sastra Mesin\n",
            "2    Comel  Perikanan & Perkelahian\n",
            "3  Dinding        Ilmu looksmaxxing\n"
          ]
        }
      ]
    },
    {
      "cell_type": "code",
      "source": [
        "#Inner merge\n",
        "inner_merge = pd.merge(df_aneh, df_naneh, on='Nama', how='inner')\n",
        "print(inner_merge)"
      ],
      "metadata": {
        "colab": {
          "base_uri": "https://localhost:8080/"
        },
        "id": "auEy80Qa6MkO",
        "outputId": "2cc7ee88-4778-4e73-e017-8a15073fd625"
      },
      "execution_count": 58,
      "outputs": [
        {
          "output_type": "stream",
          "name": "stdout",
          "text": [
            "Empty DataFrame\n",
            "Columns: [Nama, Umur, Matkul]\n",
            "Index: []\n"
          ]
        }
      ]
    },
    {
      "cell_type": "markdown",
      "source": [
        "######Kenapa kosong?, Karena tidak ada nama yang sama antara df_aneh & df_naneh"
      ],
      "metadata": {
        "id": "szPXkclH7UZc"
      }
    },
    {
      "cell_type": "code",
      "source": [
        "#Left_Merge\n",
        "left_merge = pd.merge(df_aneh, df_naneh, on='Nama', how='left')\n",
        "print(left_merge)"
      ],
      "metadata": {
        "id": "Hot5ipIA6dnx",
        "outputId": "d376b0dc-317d-4128-c8bd-ea52483ccafe",
        "colab": {
          "base_uri": "https://localhost:8080/"
        }
      },
      "execution_count": 59,
      "outputs": [
        {
          "output_type": "stream",
          "name": "stdout",
          "text": [
            "     Nama  Umur Matkul\n",
            "0   Abdul    20    NaN\n",
            "1    Baco    21    NaN\n",
            "2  Cholyn    22    NaN\n",
            "3   Dimas    23    NaN\n"
          ]
        }
      ]
    },
    {
      "cell_type": "markdown",
      "source": [
        "######Karena tidak ada nama yang cocok, Kolom matkul berisi NaN di semua baris"
      ],
      "metadata": {
        "id": "NPUU9rjr7fCD"
      }
    },
    {
      "cell_type": "code",
      "source": [
        "#Right Merge\n",
        "right_merge = pd.merge(df_aneh, df_naneh, on='Nama', how='right')\n",
        "print(right_merge)"
      ],
      "metadata": {
        "colab": {
          "base_uri": "https://localhost:8080/"
        },
        "id": "nu5XCHWt7Frl",
        "outputId": "383e1533-0d2b-4063-a16f-8bcb315b6faf"
      },
      "execution_count": 60,
      "outputs": [
        {
          "output_type": "stream",
          "name": "stdout",
          "text": [
            "      Nama  Umur                   Matkul\n",
            "0    Ammar   NaN        Teknik Kedokteran\n",
            "1     Baso   NaN             Sastra Mesin\n",
            "2    Comel   NaN  Perikanan & Perkelahian\n",
            "3  Dinding   NaN        Ilmu looksmaxxing\n"
          ]
        }
      ]
    },
    {
      "cell_type": "markdown",
      "source": [
        "######Karena tidak ada nama yang cocok, Kolom umur berisi NaN di semua baris"
      ],
      "metadata": {
        "id": "4Gab9nAr784r"
      }
    },
    {
      "cell_type": "code",
      "source": [
        "#Outer Merge\n",
        "Outer_Merge = pd.merge(df_aneh, df_naneh, on='Nama', how='outer')\n",
        "print(Outer_Merge)"
      ],
      "metadata": {
        "colab": {
          "base_uri": "https://localhost:8080/"
        },
        "id": "ZzL_SIM18ERV",
        "outputId": "4a44fb47-9dfc-42e7-84ff-de2969da60f1"
      },
      "execution_count": 61,
      "outputs": [
        {
          "output_type": "stream",
          "name": "stdout",
          "text": [
            "      Nama  Umur                   Matkul\n",
            "0    Abdul  20.0                      NaN\n",
            "1    Ammar   NaN        Teknik Kedokteran\n",
            "2     Baco  21.0                      NaN\n",
            "3     Baso   NaN             Sastra Mesin\n",
            "4   Cholyn  22.0                      NaN\n",
            "5    Comel   NaN  Perikanan & Perkelahian\n",
            "6    Dimas  23.0                      NaN\n",
            "7  Dinding   NaN        Ilmu looksmaxxing\n"
          ]
        }
      ]
    },
    {
      "cell_type": "markdown",
      "source": [
        "######Semua data digabungkan, Meskipun ada NaN karena tidak ada kecocokan\n",
        "\n"
      ],
      "metadata": {
        "id": "w7iB9czg8Lqy"
      }
    },
    {
      "cell_type": "markdown",
      "source": [
        "# Join dalam Pandas\n",
        "Metode join() digunakan untuk menggabungkan dua atau lebih DataFrame berdasarkan index, bukan kolom tertentu seperti merge().\n",
        "\n",
        "Kapan Menggunakan join()?\n",
        "\n",
        "- Ketika kedua DataFrame memiliki index yang terkait langsung.\n",
        "- Lebih efisien dibanding merge() jika index sudah rapi.\n",
        "\n",
        "\n",
        "## Seperti merge(), join() juga memiliki empat jenis penggabungan:\n",
        "\n",
        "1. Inner Join → Hanya menyimpan baris dengan index yang cocok di kedua DataFrame.\n",
        "2. Left Join → Menyimpan semua baris dari DataFrame kiri, yang cocok dari DataFrame kanan.\n",
        "3. Right Join → Menyimpan semua baris dari DataFrame kanan, yang cocok dari DataFrame kiri.\n",
        "4. Outer Join → Menggabungkan semua baris dari kedua DataFrame, mengisi NaN jika tidak cocok."
      ],
      "metadata": {
        "id": "BzSM3hcS8lJ5"
      }
    },
    {
      "cell_type": "code",
      "source": [
        "#Buat df baru\n",
        "df_baru = pd.DataFrame({'Matkul': ['Kalkulator', 'Ngopi', 'Fisika terbalik', 'Ekonomi prabski'] })\n",
        "\n",
        "#Inner Join\n",
        "Inner_Join = df_aneh.join(df_baru, how='inner')\n",
        "print(Inner_Join)\n"
      ],
      "metadata": {
        "colab": {
          "base_uri": "https://localhost:8080/"
        },
        "id": "zMmqFcrb820l",
        "outputId": "513df7fc-0f7d-4d07-95fc-e9f9d2bf1887"
      },
      "execution_count": 63,
      "outputs": [
        {
          "output_type": "stream",
          "name": "stdout",
          "text": [
            "     Nama  Umur           Matkul\n",
            "0   Abdul    20       Kalkulator\n",
            "1    Baco    21            Ngopi\n",
            "2  Cholyn    22  Fisika terbalik\n",
            "3   Dimas    23  Ekonomi prabski\n"
          ]
        }
      ]
    },
    {
      "cell_type": "markdown",
      "source": [
        "## Concatenation dalam Pandas (concat())\n",
        "Fungsi concat() digunakan untuk menggabungkan dua atau lebih DataFrame tanpa mempertimbangkan nilai yang cocok atau index yang sama.\n",
        "\n",
        "Kapan Menggunakan concat()?\n",
        "\n",
        "- Menambahkan baris baru dari DataFrame lain (stacking secara vertikal).\n",
        "- Menambahkan kolom baru dari DataFrame lain (stacking secara horizontal).\n",
        "- Tidak memerlukan kolom atau index yang sama."
      ],
      "metadata": {
        "id": "Ugtz6oPeFiFy"
      }
    },
    {
      "cell_type": "code",
      "source": [
        "#Concat df secara vertikal\n",
        "vertikal = pd.concat([df_aneh, df_naneh], ignore_index=True)\n",
        "print(vertikal)"
      ],
      "metadata": {
        "colab": {
          "base_uri": "https://localhost:8080/"
        },
        "id": "czZj_PxuGHoV",
        "outputId": "e2b6930b-0df8-4c64-c86b-8df04a7ab709"
      },
      "execution_count": 67,
      "outputs": [
        {
          "output_type": "stream",
          "name": "stdout",
          "text": [
            "      Nama  Umur                   Matkul\n",
            "0    Abdul  20.0                      NaN\n",
            "1     Baco  21.0                      NaN\n",
            "2   Cholyn  22.0                      NaN\n",
            "3    Dimas  23.0                      NaN\n",
            "4    Ammar   NaN        Teknik Kedokteran\n",
            "5     Baso   NaN             Sastra Mesin\n",
            "6    Comel   NaN  Perikanan & Perkelahian\n",
            "7  Dinding   NaN        Ilmu looksmaxxing\n"
          ]
        }
      ]
    },
    {
      "cell_type": "markdown",
      "source": [
        "#Data Kategorikal di pandas\n",
        "Dalam Pandas, data kategorikal adalah data diskrit yang terdiri dari sejumlah nilai unik terbatas (misalnya gender, status, kategori produk).\n",
        "\n",
        "Kenapa Menggunakan Tipe Categorical?\n",
        "\n",
        "- Menghemat memori → Dibandingkan object, tipe category lebih efisien dalam penyimpanan.\n",
        "- Peningkatan kinerja → Operasi pada data kategorikal lebih cepat.\n",
        "- Menyediakan fitur tambahan → Seperti ordering (pengurutan kategori)."
      ],
      "metadata": {
        "id": "f3Cy9VWEIQqv"
      }
    },
    {
      "cell_type": "code",
      "source": [
        "#Mengubah kolomk ke kategorikal\n",
        "df['Jurusan'] = df['Jurusan'].astype('category')\n",
        "print(df['Jurusan'])"
      ],
      "metadata": {
        "colab": {
          "base_uri": "https://localhost:8080/"
        },
        "id": "yvCLnsznHO4E",
        "outputId": "ebe4727e-7ced-4f05-9cbf-36e3ba2edd29"
      },
      "execution_count": 69,
      "outputs": [
        {
          "output_type": "stream",
          "name": "stdout",
          "text": [
            "0         Ilkom\n",
            "1         Hukum\n",
            "2        Teknik\n",
            "3       Ekonomi\n",
            "4        Sastra\n",
            "5    Kedokteran\n",
            "Name: Jurusan, dtype: category\n",
            "Categories (6, object): ['Ekonomi', 'Hukum', 'Ilkom', 'Kedokteran', 'Sastra', 'Teknik']\n"
          ]
        }
      ]
    },
    {
      "cell_type": "markdown",
      "source": [
        "# 📊 Data Visualization dengan Pandas\n",
        "Pandas memungkinkan kita untuk membuat visualisasi data dengan mudah menggunakan metode plotting yang berbasis Matplotlib. Dengan grafik seperti line plot, bar chart, dan scatter plot, kita bisa mengidentifikasi pola dan hubungan antar data lebih cepat."
      ],
      "metadata": {
        "id": "FhhzNvIPI2gR"
      }
    },
    {
      "cell_type": "code",
      "source": [
        "# #Line Plot\n",
        "# df['nilai'].plot()\n",
        "\n",
        "# #Histogram\n",
        "# df['Usia'].hist()\n",
        "\n",
        "# # Scatter Plot\n",
        "# df.plot.scatter(x='Usia', y='nilai')\n",
        "\n",
        "#Box Plot\n",
        "df.boxplot(column='nilai', by='Jurusan')"
      ],
      "metadata": {
        "colab": {
          "base_uri": "https://localhost:8080/",
          "height": 495
        },
        "id": "jXN19ZFLI_Y8",
        "outputId": "a221abc8-45ae-47c1-b94d-28f191fd2824"
      },
      "execution_count": 74,
      "outputs": [
        {
          "output_type": "execute_result",
          "data": {
            "text/plain": [
              "<Axes: title={'center': 'nilai'}, xlabel='Jurusan'>"
            ]
          },
          "metadata": {},
          "execution_count": 74
        },
        {
          "output_type": "display_data",
          "data": {
            "text/plain": [
              "<Figure size 640x480 with 1 Axes>"
            ],
            "image/png": "[encoded data removed]"
          },
          "metadata": {}
        }
      ]
    }
  ],
  "metadata": {
    "colab": {
      "provenance": []
    },
    "kernelspec": {
      "display_name": "Python 3",
      "name": "python3"
    },
    "language_info": {
      "name": "python"
    }
  },
  "nbformat": 4,
  "nbformat_minor": 0
}